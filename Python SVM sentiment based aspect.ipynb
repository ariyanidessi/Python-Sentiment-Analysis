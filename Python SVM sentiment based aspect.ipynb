{
 "cells": [
  {
   "cell_type": "markdown",
   "id": "c562317b",
   "metadata": {},
   "source": [
    "# SVM MULTICLASS ASPEK"
   ]
  },
  {
   "cell_type": "code",
   "execution_count": 1,
   "id": "27d8d67c",
   "metadata": {},
   "outputs": [
    {
     "data": {
      "text/html": [
       "<div>\n",
       "<style scoped>\n",
       "    .dataframe tbody tr th:only-of-type {\n",
       "        vertical-align: middle;\n",
       "    }\n",
       "\n",
       "    .dataframe tbody tr th {\n",
       "        vertical-align: top;\n",
       "    }\n",
       "\n",
       "    .dataframe thead th {\n",
       "        text-align: right;\n",
       "    }\n",
       "</style>\n",
       "<table border=\"1\" class=\"dataframe\">\n",
       "  <thead>\n",
       "    <tr style=\"text-align: right;\">\n",
       "      <th></th>\n",
       "      <th>opini</th>\n",
       "      <th>kategori</th>\n",
       "    </tr>\n",
       "  </thead>\n",
       "  <tbody>\n",
       "    <tr>\n",
       "      <th>0</th>\n",
       "      <td>berita cepat terkini</td>\n",
       "      <td>content_berita</td>\n",
       "    </tr>\n",
       "    <tr>\n",
       "      <th>1</th>\n",
       "      <td>tarik berita baru</td>\n",
       "      <td>content_berita</td>\n",
       "    </tr>\n",
       "    <tr>\n",
       "      <th>2</th>\n",
       "      <td>berita bagus sesuai jadi</td>\n",
       "      <td>content_berita</td>\n",
       "    </tr>\n",
       "    <tr>\n",
       "      <th>3</th>\n",
       "      <td>aplikasi henti</td>\n",
       "      <td>functionality</td>\n",
       "    </tr>\n",
       "    <tr>\n",
       "      <th>4</th>\n",
       "      <td>berita terkini mantap percaya maju cnn indones...</td>\n",
       "      <td>content_berita</td>\n",
       "    </tr>\n",
       "    <tr>\n",
       "      <th>...</th>\n",
       "      <td>...</td>\n",
       "      <td>...</td>\n",
       "    </tr>\n",
       "    <tr>\n",
       "      <th>1995</th>\n",
       "      <td>berita buruk tidak netral</td>\n",
       "      <td>content_berita</td>\n",
       "    </tr>\n",
       "    <tr>\n",
       "      <th>1996</th>\n",
       "      <td>aplikasi nyaman lancar</td>\n",
       "      <td>functionality</td>\n",
       "    </tr>\n",
       "    <tr>\n",
       "      <th>1997</th>\n",
       "      <td>berita sangat independen</td>\n",
       "      <td>content_berita</td>\n",
       "    </tr>\n",
       "    <tr>\n",
       "      <th>1998</th>\n",
       "      <td>tema bagus tidak bingung</td>\n",
       "      <td>navigation</td>\n",
       "    </tr>\n",
       "    <tr>\n",
       "      <th>1999</th>\n",
       "      <td>iklan sedikit mantap</td>\n",
       "      <td>content_iklan</td>\n",
       "    </tr>\n",
       "  </tbody>\n",
       "</table>\n",
       "<p>2000 rows × 2 columns</p>\n",
       "</div>"
      ],
      "text/plain": [
       "                                                  opini        kategori\n",
       "0                                  berita cepat terkini  content_berita\n",
       "1                                     tarik berita baru  content_berita\n",
       "2                              berita bagus sesuai jadi  content_berita\n",
       "3                                        aplikasi henti   functionality\n",
       "4     berita terkini mantap percaya maju cnn indones...  content_berita\n",
       "...                                                 ...             ...\n",
       "1995                          berita buruk tidak netral  content_berita\n",
       "1996                             aplikasi nyaman lancar   functionality\n",
       "1997                           berita sangat independen  content_berita\n",
       "1998                           tema bagus tidak bingung      navigation\n",
       "1999                               iklan sedikit mantap   content_iklan\n",
       "\n",
       "[2000 rows x 2 columns]"
      ]
     },
     "execution_count": 1,
     "metadata": {},
     "output_type": "execute_result"
    }
   ],
   "source": [
    "import pandas as pd\n",
    "import numpy as np\n",
    "\n",
    "df = pd.read_excel(r\"C:\\Users\\user\\Documents\\cnn_aspek.xlsx\")\n",
    "df"
   ]
  },
  {
   "cell_type": "code",
   "execution_count": 2,
   "id": "fa0f6f5c",
   "metadata": {},
   "outputs": [
    {
     "data": {
      "text/plain": [
       "content_berita           1530\n",
       "functionality             359\n",
       "content_iklan              58\n",
       "navigation                 23\n",
       "video / audio quality      15\n",
       "interactivity              15\n",
       "Name: kategori, dtype: int64"
      ]
     },
     "execution_count": 2,
     "metadata": {},
     "output_type": "execute_result"
    }
   ],
   "source": [
    "df['kategori'].value_counts() #untuk melihat berapa jumlah setiap label"
   ]
  },
  {
   "cell_type": "code",
   "execution_count": 3,
   "id": "e8e98439",
   "metadata": {},
   "outputs": [
    {
     "name": "stdout",
     "output_type": "stream",
     "text": [
      "2000\n"
     ]
    }
   ],
   "source": [
    "print(len(df)) #data sebanyak 2500 karena dimulai dari 0 maka 2499"
   ]
  },
  {
   "cell_type": "code",
   "execution_count": 4,
   "id": "f2426375",
   "metadata": {},
   "outputs": [],
   "source": [
    "from sklearn.feature_extraction.text import TfidfTransformer, CountVectorizer\n",
    "vectorizer = CountVectorizer(decode_error=\"replace\")\n",
    "transformer = TfidfTransformer()\n",
    "TFIDF = transformer.fit_transform(vectorizer.fit_transform(df['opini']))"
   ]
  },
  {
   "cell_type": "code",
   "execution_count": 5,
   "id": "22b68c3f",
   "metadata": {},
   "outputs": [
    {
     "name": "stdout",
     "output_type": "stream",
     "text": [
      "  (0, 2225)\t0.5992105580891981\n",
      "  (0, 407)\t0.7485234565402487\n",
      "  (0, 268)\t0.2840058838888207\n",
      "  (1, 2174)\t0.7033408561977688\n",
      "  (1, 268)\t0.22614009010338812\n",
      "  (1, 220)\t0.6739230665669644\n",
      "  (2, 2046)\t0.579752865399638\n",
      "  (2, 909)\t0.7181389848717513\n",
      "  (2, 268)\t0.17627675953514355\n",
      "  (2, 167)\t0.3421834559356558\n",
      "  (3, 782)\t0.9067925101938833\n",
      "  (3, 119)\t0.42157720936535004\n",
      "  (4, 2225)\t0.254790849638393\n",
      "  (4, 1718)\t0.2991038423787417\n",
      "  (4, 1302)\t0.6747946485083484\n",
      "  (4, 1269)\t0.47957836362844825\n",
      "  (4, 849)\t0.2997155146865626\n",
      "  (4, 442)\t0.23635216261372047\n",
      "  (4, 268)\t0.12076239225338155\n",
      "  (5, 2225)\t0.37955215941939124\n",
      "  (5, 1718)\t0.44556352563919605\n",
      "  (5, 1490)\t0.5040780625400612\n",
      "  (5, 820)\t0.5304459263534499\n",
      "  (5, 167)\t0.349207286551892\n",
      "  (6, 1585)\t0.9736029334780484\n",
      "  :\t:\n",
      "  (1992, 9)\t0.48899076573752565\n",
      "  (1993, 849)\t0.522437648187127\n",
      "  (1993, 759)\t0.8262854617900552\n",
      "  (1993, 268)\t0.2105023500845036\n",
      "  (1994, 2290)\t0.45172330562705787\n",
      "  (1994, 2269)\t0.48532141118074146\n",
      "  (1994, 2189)\t0.6086773972051406\n",
      "  (1994, 2174)\t0.4357992761977388\n",
      "  (1995, 2259)\t0.5645075196176355\n",
      "  (1995, 1490)\t0.4624242513184956\n",
      "  (1995, 378)\t0.6635211111676536\n",
      "  (1995, 268)\t0.16502971587721996\n",
      "  (1996, 1561)\t0.6530258025400909\n",
      "  (1996, 1184)\t0.6530258025400909\n",
      "  (1996, 119)\t0.38355521432218925\n",
      "  (1997, 1937)\t0.7640807976839695\n",
      "  (1997, 837)\t0.6180485183319675\n",
      "  (1997, 268)\t0.1849231288895161\n",
      "  (1998, 2259)\t0.4616132864037029\n",
      "  (1998, 2189)\t0.5862187109303065\n",
      "  (1998, 315)\t0.6120766728263567\n",
      "  (1998, 167)\t0.2619598124762647\n",
      "  (1999, 1976)\t0.7918781135305437\n",
      "  (1999, 1302)\t0.4200266260193855\n",
      "  (1999, 820)\t0.44329074741762714\n"
     ]
    }
   ],
   "source": [
    "print(TFIDF)"
   ]
  },
  {
   "cell_type": "code",
   "execution_count": 6,
   "id": "1134d420",
   "metadata": {},
   "outputs": [],
   "source": [
    "#Save model TFIDF\n",
    "import pickle\n",
    "pickle.dump(vectorizer.vocabulary_,open(\"TFIDF.pkl\",\"wb\")) #simpan ke pickle"
   ]
  },
  {
   "cell_type": "code",
   "execution_count": 7,
   "id": "bc41a7ac",
   "metadata": {},
   "outputs": [
    {
     "name": "stdout",
     "output_type": "stream",
     "text": [
      "['content_berita', 'content_berita', 'content_berita', 'functionality', 'content_berita', 'content_iklan', 'content_berita', 'content_berita', 'functionality', 'content_berita', 'navigation', 'content_berita', 'functionality', 'functionality', 'content_berita', 'content_berita', 'functionality', 'video / audio quality', 'content_berita', 'content_berita', 'content_berita', 'content_berita', 'content_berita', 'content_berita', 'content_berita', 'content_berita', 'content_berita', 'video / audio quality', 'content_iklan', 'content_berita', 'functionality', 'content_berita', 'content_berita', 'content_berita', 'content_iklan', 'content_berita', 'content_berita', 'content_berita', 'functionality', 'functionality', 'content_berita', 'content_berita', 'content_berita', 'functionality', 'content_berita', 'content_berita', 'content_berita', 'functionality', 'content_berita', 'video / audio quality', 'content_berita', 'content_berita', 'content_berita', 'content_berita', 'content_berita', 'content_berita', 'content_berita', 'content_berita', 'content_berita', 'video / audio quality', 'content_berita', 'content_berita', 'content_berita', 'content_iklan', 'navigation', 'content_berita', 'content_berita', 'content_berita', 'content_berita', 'content_berita', 'video / audio quality', 'content_berita', 'content_berita', 'content_berita', 'content_berita', 'content_berita', 'functionality', 'content_berita', 'functionality', 'functionality', 'functionality', 'functionality', 'functionality', 'content_berita', 'content_berita', 'functionality', 'content_iklan', 'functionality', 'content_berita', 'functionality', 'content_berita', 'content_berita', 'functionality', 'content_berita', 'content_berita', 'content_berita', 'content_berita', 'content_berita', 'content_berita', 'functionality', 'content_berita', 'interactivity', 'functionality', 'content_berita', 'content_berita', 'content_iklan', 'content_iklan', 'content_berita', 'content_berita', 'video / audio quality', 'content_berita', 'functionality', 'functionality', 'content_berita', 'content_berita', 'content_berita', 'functionality', 'functionality', 'content_berita', 'interactivity', 'content_berita', 'content_berita', 'content_berita', 'navigation', 'content_berita', 'content_berita', 'functionality', 'content_berita', 'content_berita', 'content_iklan', 'content_berita', 'content_berita', 'content_berita', 'content_berita', 'content_berita', 'content_berita', 'content_berita', 'content_berita', 'functionality', 'functionality', 'content_berita', 'content_berita', 'functionality', 'content_berita', 'content_berita', 'content_berita', 'content_berita', 'functionality', 'content_berita', 'functionality', 'functionality', 'content_berita', 'content_iklan', 'content_berita', 'content_berita', 'content_berita', 'content_berita', 'content_berita', 'content_berita', 'content_berita', 'functionality', 'content_berita', 'content_berita', 'content_berita', 'functionality', 'content_berita', 'functionality', 'content_berita', 'content_berita', 'content_berita', 'functionality', 'content_berita', 'content_berita', 'content_berita', 'content_berita', 'functionality', 'content_berita', 'functionality', 'content_berita', 'navigation', 'content_berita', 'content_berita', 'functionality', 'content_berita', 'functionality', 'content_berita', 'functionality', 'content_berita', 'functionality', 'functionality', 'functionality', 'content_berita', 'content_berita', 'content_berita', 'content_berita', 'content_berita', 'functionality', 'content_berita', 'content_berita', 'content_berita', 'content_iklan', 'content_berita', 'content_berita', 'content_berita', 'navigation', 'content_berita', 'content_berita', 'content_berita', 'content_berita', 'content_iklan', 'navigation', 'content_berita', 'content_berita', 'content_berita', 'content_berita', 'content_berita', 'content_berita', 'content_berita', 'functionality', 'content_berita', 'functionality', 'content_berita', 'content_berita', 'content_berita', 'content_berita', 'content_berita', 'content_berita', 'content_berita', 'content_berita', 'functionality', 'content_berita', 'content_berita', 'content_berita', 'content_berita', 'content_berita', 'content_berita', 'interactivity', 'content_berita', 'content_berita', 'content_berita', 'content_berita', 'video / audio quality', 'content_berita', 'navigation', 'functionality', 'content_berita', 'content_berita', 'content_berita', 'content_berita', 'content_berita', 'content_berita', 'content_berita', 'content_berita', 'content_berita', 'content_berita', 'content_berita', 'content_berita', 'content_berita', 'content_berita', 'content_berita', 'video / audio quality', 'content_berita', 'content_berita', 'functionality', 'functionality', 'content_berita', 'content_berita', 'functionality', 'content_berita', 'functionality', 'content_berita', 'navigation', 'content_berita', 'content_iklan', 'content_berita', 'content_berita', 'content_berita', 'content_berita', 'functionality', 'navigation', 'content_berita', 'content_berita', 'content_berita', 'content_berita', 'content_berita', 'content_berita', 'navigation', 'content_berita', 'content_berita', 'functionality', 'content_berita', 'content_berita', 'content_berita', 'content_berita', 'content_iklan', 'content_berita', 'content_berita', 'content_berita', 'content_berita', 'content_berita', 'content_berita', 'functionality', 'content_iklan', 'content_berita', 'content_berita', 'content_berita', 'content_berita', 'content_berita', 'content_berita', 'content_berita', 'content_berita', 'content_berita', 'content_berita', 'functionality', 'content_berita', 'navigation', 'content_berita', 'content_berita', 'functionality', 'content_berita', 'functionality', 'content_berita', 'functionality', 'functionality', 'content_berita', 'content_berita', 'content_berita', 'content_berita', 'content_berita', 'content_berita', 'content_berita', 'functionality', 'content_berita', 'content_berita', 'content_berita', 'content_berita', 'content_berita', 'content_berita', 'content_berita', 'content_berita', 'content_berita', 'functionality', 'content_berita', 'content_berita', 'content_berita', 'content_berita', 'content_berita', 'content_berita', 'content_berita', 'content_berita', 'content_berita', 'content_iklan', 'content_berita', 'content_berita', 'content_berita', 'functionality', 'content_berita', 'content_berita', 'content_berita', 'content_berita', 'content_berita', 'content_berita', 'content_berita', 'content_berita', 'functionality', 'content_berita', 'content_berita', 'content_berita', 'content_berita', 'content_berita', 'content_berita', 'content_berita', 'content_iklan', 'content_iklan', 'functionality', 'content_berita', 'content_berita', 'content_berita', 'content_berita', 'content_berita', 'content_berita', 'content_berita', 'content_berita', 'functionality', 'content_berita', 'content_berita', 'navigation', 'functionality', 'content_berita', 'content_berita', 'content_berita', 'functionality', 'content_berita', 'content_berita', 'content_berita', 'content_berita', 'content_berita', 'content_berita', 'content_berita', 'content_berita', 'functionality', 'functionality', 'functionality', 'content_berita', 'content_berita', 'content_berita', 'content_berita', 'content_berita', 'content_berita', 'content_berita', 'content_berita', 'functionality', 'content_berita', 'content_iklan', 'content_berita', 'content_berita', 'content_berita', 'content_berita', 'content_berita', 'content_berita', 'functionality', 'content_berita', 'content_iklan', 'content_iklan', 'content_berita', 'navigation', 'content_iklan', 'content_berita', 'functionality', 'content_berita', 'content_berita', 'content_berita', 'content_berita', 'content_berita', 'content_berita', 'content_berita', 'content_berita', 'content_berita', 'content_berita', 'functionality', 'content_iklan', 'functionality', 'content_berita', 'content_berita', 'functionality', 'content_berita', 'content_berita', 'content_berita', 'content_berita', 'functionality', 'content_berita', 'content_berita', 'content_berita', 'content_berita', 'content_berita', 'content_iklan', 'content_berita', 'content_berita', 'video / audio quality', 'navigation', 'navigation', 'content_berita', 'functionality', 'functionality', 'content_berita', 'content_berita', 'content_berita', 'functionality', 'functionality', 'content_berita', 'content_berita', 'video / audio quality', 'functionality', 'video / audio quality', 'functionality', 'video / audio quality', 'content_berita', 'content_berita', 'content_berita', 'content_berita', 'content_berita', 'functionality', 'content_berita', 'content_berita', 'content_berita', 'content_berita', 'content_berita', 'functionality', 'content_berita', 'content_berita', 'content_berita', 'content_berita', 'content_berita', 'content_berita', 'content_berita', 'content_berita', 'content_berita', 'content_iklan', 'content_berita', 'content_berita', 'content_berita', 'content_berita', 'functionality', 'content_berita', 'functionality', 'content_berita', 'functionality', 'content_berita', 'content_berita', 'content_berita', 'interactivity', 'functionality', 'functionality', 'content_berita', 'functionality', 'content_berita', 'functionality', 'content_berita', 'content_berita', 'content_berita', 'content_berita', 'content_berita', 'content_berita', 'functionality', 'content_berita', 'content_berita', 'functionality', 'functionality', 'functionality', 'content_berita', 'functionality', 'content_berita', 'content_berita', 'content_berita', 'functionality', 'content_berita', 'content_berita', 'content_berita', 'content_berita', 'content_berita', 'content_berita', 'content_berita', 'content_berita', 'content_berita', 'content_berita', 'content_berita', 'content_berita', 'content_berita', 'content_berita', 'content_berita', 'content_berita', 'content_iklan', 'content_berita', 'content_berita', 'content_berita', 'functionality', 'content_berita', 'content_berita', 'content_berita', 'content_berita', 'content_iklan', 'content_berita', 'functionality', 'functionality', 'content_berita', 'video / audio quality', 'content_berita', 'content_berita', 'navigation', 'functionality', 'content_berita', 'content_berita', 'functionality', 'content_berita', 'functionality', 'content_berita', 'content_berita', 'functionality', 'content_berita', 'content_berita', 'content_berita', 'content_berita', 'content_berita', 'content_berita', 'content_berita', 'content_berita', 'content_berita', 'content_berita', 'content_berita', 'functionality', 'content_iklan', 'functionality', 'functionality', 'content_berita', 'video / audio quality', 'content_berita', 'functionality', 'content_berita', 'content_berita', 'content_berita', 'content_iklan', 'content_berita', 'content_berita', 'functionality', 'content_berita', 'content_berita', 'content_berita', 'content_berita', 'content_berita', 'content_berita', 'content_iklan', 'functionality', 'content_berita', 'functionality', 'content_berita', 'functionality', 'content_berita', 'content_berita', 'content_berita', 'functionality', 'content_berita', 'content_berita', 'functionality', 'content_berita', 'content_berita', 'content_berita', 'content_berita', 'functionality', 'functionality', 'functionality', 'content_berita', 'content_berita', 'content_berita', 'content_berita', 'content_berita', 'content_berita', 'content_berita', 'content_berita', 'content_berita', 'content_berita', 'content_berita', 'content_berita', 'content_berita', 'content_berita', 'content_iklan', 'content_berita', 'content_berita', 'content_berita', 'content_berita', 'content_berita', 'content_berita', 'content_berita', 'content_berita', 'content_berita', 'content_berita', 'content_berita', 'content_berita', 'content_berita', 'functionality', 'content_berita', 'content_iklan', 'content_berita', 'video / audio quality', 'functionality', 'content_berita', 'content_berita', 'functionality', 'content_berita', 'content_berita', 'content_berita', 'content_berita', 'content_berita', 'content_berita', 'content_iklan', 'functionality', 'functionality', 'content_berita', 'content_berita', 'content_berita', 'content_berita', 'content_berita', 'content_berita', 'content_berita', 'content_berita', 'content_berita', 'interactivity', 'content_berita', 'content_berita', 'content_berita', 'content_berita', 'content_iklan', 'functionality', 'content_berita', 'content_berita', 'content_berita', 'functionality', 'functionality', 'content_berita', 'functionality', 'functionality', 'content_berita', 'content_berita', 'content_berita', 'functionality', 'content_berita', 'content_berita', 'content_berita', 'content_berita', 'content_berita', 'content_berita', 'content_berita', 'content_berita', 'content_berita', 'content_berita', 'content_berita', 'content_berita', 'content_berita', 'content_berita', 'content_berita', 'content_berita', 'content_berita', 'content_berita', 'content_berita', 'functionality', 'content_berita', 'content_berita', 'content_berita', 'content_berita', 'content_berita', 'content_iklan', 'content_berita', 'content_berita', 'functionality', 'content_berita', 'content_berita', 'content_berita', 'content_berita', 'content_berita', 'content_berita', 'content_berita', 'content_berita', 'content_berita', 'functionality', 'functionality', 'functionality', 'content_berita', 'content_berita', 'content_berita', 'content_berita', 'content_berita', 'content_berita', 'content_berita', 'content_berita', 'functionality', 'content_berita', 'content_berita', 'content_berita', 'functionality', 'content_berita', 'content_berita', 'content_berita', 'functionality', 'content_berita', 'functionality', 'content_berita', 'content_berita', 'content_berita', 'functionality', 'functionality', 'functionality', 'content_berita', 'content_berita', 'content_berita', 'content_berita', 'functionality', 'content_berita', 'content_berita', 'functionality', 'content_berita', 'interactivity', 'content_berita', 'content_berita', 'content_berita', 'content_berita', 'content_berita', 'content_berita', 'content_berita', 'content_berita', 'content_berita', 'functionality', 'functionality', 'content_berita', 'content_berita', 'content_berita', 'content_berita', 'content_berita', 'functionality', 'content_berita', 'content_berita', 'content_berita', 'functionality', 'content_berita', 'content_berita', 'content_berita', 'functionality', 'content_berita', 'functionality', 'functionality', 'content_berita', 'content_berita', 'content_berita', 'content_berita', 'functionality', 'functionality', 'functionality', 'content_berita', 'content_berita', 'content_berita', 'content_berita', 'content_berita', 'content_berita', 'functionality', 'content_berita', 'functionality', 'content_berita', 'content_berita', 'functionality', 'content_berita', 'content_berita', 'content_berita', 'functionality', 'functionality', 'functionality', 'content_berita', 'functionality', 'content_berita', 'content_berita', 'content_berita', 'content_berita', 'content_berita', 'functionality', 'functionality', 'functionality', 'functionality', 'functionality', 'functionality', 'content_berita', 'content_berita', 'functionality', 'content_berita', 'content_berita', 'content_berita', 'content_berita', 'content_berita', 'content_berita', 'content_berita', 'functionality', 'content_berita', 'content_berita', 'content_berita', 'content_berita', 'content_berita', 'content_berita', 'content_berita', 'functionality', 'content_berita', 'content_berita', 'functionality', 'content_berita', 'content_berita', 'content_berita', 'functionality', 'content_berita', 'content_berita', 'content_berita', 'content_berita', 'content_berita', 'content_berita', 'content_berita', 'content_berita', 'functionality', 'content_berita', 'content_berita', 'content_berita', 'content_berita', 'content_berita', 'content_berita', 'content_berita', 'content_berita', 'content_berita', 'functionality', 'content_berita', 'content_berita', 'content_berita', 'content_berita', 'content_berita', 'content_berita', 'content_berita', 'functionality', 'functionality', 'functionality', 'content_berita', 'content_berita', 'content_berita', 'functionality', 'functionality', 'content_berita', 'content_berita', 'content_berita', 'content_berita', 'content_berita', 'content_berita', 'content_berita', 'content_berita', 'content_berita', 'content_berita', 'content_berita', 'content_berita', 'content_berita', 'content_berita', 'content_berita', 'content_berita', 'content_berita', 'content_berita', 'content_berita', 'content_berita', 'functionality', 'content_berita', 'content_berita', 'content_berita', 'content_berita', 'content_berita', 'content_berita', 'content_berita', 'content_berita', 'content_berita', 'content_berita', 'content_berita', 'content_berita', 'content_berita', 'content_berita', 'content_berita', 'content_berita', 'content_berita', 'content_berita', 'content_berita', 'functionality', 'functionality', 'content_berita', 'content_berita', 'content_berita', 'content_berita', 'content_berita', 'content_berita', 'content_berita', 'content_berita', 'content_berita', 'content_berita', 'content_berita', 'content_berita', 'content_berita', 'content_berita', 'content_berita', 'content_berita', 'content_berita', 'content_berita', 'content_berita', 'content_berita', 'content_berita', 'content_berita', 'content_berita', 'content_berita', 'content_berita', 'content_berita', 'interactivity', 'content_berita', 'content_berita', 'content_berita', 'content_berita', 'content_berita', 'functionality', 'content_berita', 'content_berita', 'content_berita', 'content_berita', 'content_berita', 'content_berita', 'content_berita', 'content_berita', 'content_berita', 'content_berita', 'content_berita', 'content_berita', 'content_berita', 'content_berita', 'content_berita', 'content_berita', 'content_berita', 'content_berita', 'content_berita', 'content_berita', 'content_berita', 'content_berita', 'content_berita', 'functionality', 'functionality', 'content_berita', 'content_berita', 'content_berita', 'content_berita', 'content_berita', 'content_berita', 'functionality', 'interactivity', 'content_berita', 'functionality', 'content_berita', 'content_berita', 'content_berita', 'functionality', 'functionality', 'content_berita', 'content_berita', 'content_berita', 'content_berita', 'content_berita', 'content_berita', 'functionality', 'functionality', 'content_berita', 'content_berita', 'content_berita', 'content_berita', 'content_berita', 'content_berita', 'content_berita', 'content_berita', 'functionality', 'content_berita', 'content_berita', 'functionality', 'content_berita', 'content_berita', 'content_berita', 'content_berita', 'content_berita', 'content_berita', 'content_berita', 'content_berita', 'content_berita', 'content_berita', 'content_iklan', 'functionality', 'content_berita', 'content_berita', 'content_berita', 'content_berita', 'content_berita', 'content_berita', 'content_berita', 'content_berita', 'content_berita', 'content_berita', 'content_berita', 'content_berita', 'functionality', 'content_berita', 'content_berita', 'content_berita', 'content_berita', 'content_berita', 'content_berita', 'content_berita', 'content_iklan', 'functionality', 'functionality', 'content_berita', 'functionality', 'content_berita', 'content_berita', 'content_berita', 'interactivity', 'content_berita', 'content_berita', 'content_berita', 'content_berita', 'content_berita', 'content_berita', 'content_berita', 'functionality', 'content_berita', 'content_berita', 'content_berita', 'content_berita', 'functionality', 'content_berita', 'content_iklan', 'content_berita', 'content_berita', 'content_berita', 'content_berita', 'content_iklan', 'content_berita', 'functionality', 'content_berita', 'content_berita', 'content_berita', 'content_berita', 'content_berita', 'content_berita', 'content_berita', 'content_berita', 'content_berita', 'content_berita', 'content_berita', 'content_berita', 'content_berita', 'content_berita', 'content_berita', 'functionality', 'content_berita', 'content_berita', 'functionality', 'content_berita', 'content_berita', 'content_berita', 'content_berita', 'content_berita', 'content_berita', 'content_berita', 'content_berita', 'content_berita', 'content_berita', 'content_berita', 'content_berita', 'content_berita', 'content_berita', 'content_berita', 'content_berita', 'content_berita', 'content_berita', 'functionality', 'content_berita', 'content_berita', 'content_iklan', 'content_berita', 'content_berita', 'content_berita', 'content_berita', 'content_berita', 'content_berita', 'content_berita', 'functionality', 'content_berita', 'content_berita', 'functionality', 'content_berita', 'content_berita', 'content_berita', 'content_berita', 'content_berita', 'content_berita', 'content_berita', 'content_berita', 'content_berita', 'content_berita', 'content_berita', 'content_berita', 'content_berita', 'content_berita', 'content_berita', 'content_berita', 'content_berita', 'content_berita', 'content_berita', 'content_berita', 'content_berita', 'functionality', 'content_berita', 'functionality', 'content_berita', 'functionality', 'functionality', 'content_berita', 'content_berita', 'functionality', 'functionality', 'content_berita', 'content_berita', 'content_berita', 'content_berita', 'content_berita', 'content_berita', 'content_berita', 'content_berita', 'content_berita', 'content_berita', 'content_berita', 'functionality', 'functionality', 'functionality', 'content_berita', 'content_berita', 'content_berita', 'content_berita', 'content_berita', 'functionality', 'functionality', 'content_berita', 'content_berita', 'content_berita', 'content_berita', 'content_berita', 'content_berita', 'content_berita', 'content_berita', 'content_berita', 'content_berita', 'content_berita', 'content_berita', 'content_berita', 'functionality', 'functionality', 'content_berita', 'content_berita', 'content_berita', 'functionality', 'content_berita', 'content_berita', 'content_berita', 'content_berita', 'functionality', 'content_berita', 'functionality', 'content_berita', 'functionality', 'content_berita', 'functionality', 'functionality', 'content_berita', 'content_berita', 'functionality', 'content_iklan', 'navigation', 'functionality', 'content_berita', 'content_berita', 'functionality', 'content_berita', 'functionality', 'content_berita', 'content_berita', 'content_berita', 'functionality', 'content_berita', 'content_berita', 'content_berita', 'content_berita', 'content_berita', 'content_berita', 'content_berita', 'content_berita', 'content_berita', 'functionality', 'content_berita', 'functionality', 'content_berita', 'content_berita', 'content_berita', 'functionality', 'functionality', 'content_berita', 'content_berita', 'content_berita', 'content_berita', 'content_berita', 'content_berita', 'content_berita', 'functionality', 'functionality', 'functionality', 'content_berita', 'content_berita', 'content_berita', 'content_berita', 'functionality', 'functionality', 'content_berita', 'content_berita', 'content_berita', 'content_berita', 'content_berita', 'content_berita', 'content_berita', 'content_berita', 'content_berita', 'content_berita', 'content_berita', 'content_berita', 'content_berita', 'content_berita', 'content_berita', 'content_berita', 'content_berita', 'content_berita', 'content_berita', 'content_berita', 'content_berita', 'functionality', 'content_berita', 'content_berita', 'content_berita', 'content_berita', 'content_berita', 'content_berita', 'functionality', 'content_berita', 'functionality', 'content_berita', 'content_berita', 'content_berita', 'content_berita', 'content_berita', 'content_berita', 'functionality', 'content_berita', 'content_berita', 'functionality', 'functionality', 'content_berita', 'content_berita', 'content_berita', 'content_berita', 'content_berita', 'content_berita', 'content_berita', 'content_berita', 'content_berita', 'functionality', 'content_berita', 'content_berita', 'content_berita', 'content_berita', 'content_berita', 'content_berita', 'content_berita', 'content_berita', 'content_berita', 'content_berita', 'content_berita', 'content_berita', 'functionality', 'content_berita', 'content_berita', 'content_berita', 'content_berita', 'content_berita', 'content_berita', 'content_berita', 'content_berita', 'content_berita', 'content_berita', 'content_berita', 'content_berita', 'content_berita', 'content_berita', 'functionality', 'content_berita', 'functionality', 'content_berita', 'navigation', 'content_berita', 'content_berita', 'content_berita', 'content_berita', 'content_berita', 'content_berita', 'interactivity', 'content_berita', 'content_berita', 'content_berita', 'functionality', 'functionality', 'content_berita', 'functionality', 'content_berita', 'content_berita', 'content_berita', 'content_berita', 'content_berita', 'content_berita', 'functionality', 'content_berita', 'content_berita', 'functionality', 'content_berita', 'content_berita', 'content_berita', 'content_berita', 'content_berita', 'content_berita', 'content_berita', 'content_berita', 'content_berita', 'content_berita', 'content_berita', 'content_berita', 'content_berita', 'content_iklan', 'content_berita', 'content_berita', 'functionality', 'content_berita', 'functionality', 'content_berita', 'content_berita', 'content_berita', 'content_berita', 'content_berita', 'content_berita', 'content_berita', 'content_berita', 'content_berita', 'content_berita', 'content_berita', 'content_berita', 'content_berita', 'content_berita', 'content_berita', 'content_berita', 'functionality', 'content_berita', 'content_berita', 'content_berita', 'content_berita', 'content_berita', 'content_berita', 'content_berita', 'content_berita', 'content_berita', 'content_berita', 'content_berita', 'content_berita', 'content_berita', 'content_berita', 'content_berita', 'content_berita', 'content_berita', 'content_berita', 'content_berita', 'content_berita', 'content_berita', 'content_berita', 'content_berita', 'content_berita', 'content_berita', 'content_berita', 'content_berita', 'content_berita', 'content_berita', 'content_berita', 'content_berita', 'content_berita', 'content_berita', 'content_berita', 'content_berita', 'content_berita', 'content_berita', 'functionality', 'content_berita', 'content_berita', 'navigation', 'functionality', 'content_berita', 'content_berita', 'content_berita', 'content_berita', 'content_berita', 'content_berita', 'content_berita', 'content_berita', 'content_berita', 'content_berita', 'content_berita', 'content_berita', 'functionality', 'functionality', 'functionality', 'functionality', 'functionality', 'functionality', 'content_berita', 'content_berita', 'content_berita', 'content_berita', 'content_berita', 'content_berita', 'content_berita', 'content_berita', 'functionality', 'content_berita', 'content_berita', 'content_berita', 'content_berita', 'content_berita', 'content_berita', 'content_berita', 'content_berita', 'content_berita', 'content_berita', 'content_iklan', 'content_berita', 'content_berita', 'content_berita', 'content_berita', 'content_berita', 'functionality', 'content_berita', 'interactivity', 'functionality', 'content_berita', 'content_berita', 'content_iklan', 'content_berita', 'content_berita', 'content_berita', 'content_berita', 'content_berita', 'content_iklan', 'content_berita', 'content_berita', 'content_berita', 'content_iklan', 'content_berita', 'content_berita', 'content_iklan', 'content_iklan', 'content_berita', 'content_berita', 'content_berita', 'content_berita', 'content_berita', 'content_berita', 'content_berita', 'content_berita', 'content_berita', 'content_berita', 'content_berita', 'content_berita', 'content_berita', 'content_berita', 'content_berita', 'functionality', 'functionality', 'interactivity', 'content_berita', 'content_berita', 'content_berita', 'navigation', 'content_berita', 'content_berita', 'functionality', 'content_berita', 'content_berita', 'content_berita', 'content_berita', 'content_berita', 'content_berita', 'content_berita', 'content_berita', 'content_berita', 'content_berita', 'functionality', 'content_iklan', 'content_berita', 'content_iklan', 'functionality', 'content_berita', 'content_berita', 'content_berita', 'content_berita', 'content_berita', 'content_berita', 'functionality', 'functionality', 'content_berita', 'content_berita', 'content_berita', 'content_berita', 'content_berita', 'content_berita', 'content_berita', 'content_berita', 'content_berita', 'content_berita', 'content_berita', 'content_berita', 'content_berita', 'content_berita', 'content_berita', 'functionality', 'functionality', 'content_iklan', 'content_berita', 'functionality', 'content_berita', 'content_berita', 'content_berita', 'content_berita', 'content_berita', 'content_berita', 'functionality', 'functionality', 'content_berita', 'functionality', 'content_berita', 'functionality', 'functionality', 'functionality', 'content_berita', 'content_berita', 'functionality', 'content_berita', 'content_iklan', 'functionality', 'content_berita', 'content_berita', 'content_berita', 'content_berita', 'content_berita', 'content_berita', 'content_berita', 'content_berita', 'content_berita', 'content_berita', 'content_berita', 'content_berita', 'content_berita', 'content_berita', 'content_berita', 'content_berita', 'content_berita', 'functionality', 'functionality', 'content_berita', 'functionality', 'content_berita', 'content_berita', 'content_berita', 'content_berita', 'content_berita', 'content_berita', 'content_berita', 'content_berita', 'content_berita', 'functionality', 'functionality', 'content_berita', 'content_berita', 'functionality', 'content_berita', 'functionality', 'content_berita', 'functionality', 'content_berita', 'content_berita', 'functionality', 'functionality', 'content_berita', 'content_berita', 'content_berita', 'content_berita', 'content_berita', 'content_berita', 'content_berita', 'content_berita', 'content_berita', 'content_berita', 'content_berita', 'content_berita', 'content_berita', 'content_berita', 'functionality', 'functionality', 'functionality', 'content_berita', 'content_berita', 'content_berita', 'content_berita', 'content_berita', 'content_berita', 'content_berita', 'content_berita', 'content_berita', 'content_berita', 'content_berita', 'content_berita', 'content_berita', 'content_berita', 'content_berita', 'content_berita', 'content_berita', 'content_berita', 'content_berita', 'content_berita', 'content_berita', 'content_berita', 'content_berita', 'content_berita', 'content_berita', 'content_berita', 'content_berita', 'content_berita', 'functionality', 'content_berita', 'content_berita', 'content_berita', 'content_berita', 'content_berita', 'content_berita', 'content_berita', 'content_berita', 'content_berita', 'interactivity', 'content_berita', 'content_berita', 'content_berita', 'content_berita', 'content_berita', 'content_berita', 'content_berita', 'content_berita', 'content_berita', 'content_berita', 'content_berita', 'content_berita', 'content_berita', 'content_berita', 'content_berita', 'interactivity', 'content_berita', 'content_berita', 'content_berita', 'functionality', 'content_berita', 'content_berita', 'content_berita', 'content_berita', 'content_berita', 'functionality', 'content_berita', 'content_berita', 'content_berita', 'functionality', 'functionality', 'content_berita', 'content_berita', 'content_berita', 'content_berita', 'content_berita', 'content_berita', 'content_berita', 'content_berita', 'content_berita', 'content_berita', 'content_berita', 'functionality', 'functionality', 'functionality', 'functionality', 'functionality', 'functionality', 'content_berita', 'content_berita', 'content_berita', 'content_berita', 'content_berita', 'functionality', 'content_berita', 'content_iklan', 'functionality', 'content_berita', 'content_berita', 'content_berita', 'content_berita', 'content_berita', 'content_berita', 'functionality', 'functionality', 'functionality', 'functionality', 'content_berita', 'content_berita', 'content_berita', 'content_berita', 'content_berita', 'content_berita', 'content_berita', 'content_berita', 'functionality', 'content_berita', 'content_berita', 'content_berita', 'content_iklan', 'content_berita', 'content_berita', 'content_berita', 'content_berita', 'content_berita', 'functionality', 'content_berita', 'content_berita', 'functionality', 'content_berita', 'content_berita', 'content_berita', 'content_berita', 'content_berita', 'content_berita', 'functionality', 'content_berita', 'content_berita', 'content_berita', 'functionality', 'functionality', 'content_berita', 'content_berita', 'content_berita', 'content_berita', 'content_berita', 'content_berita', 'content_berita', 'content_berita', 'content_berita', 'content_berita', 'content_berita', 'functionality', 'content_berita', 'content_berita', 'content_berita', 'content_berita', 'functionality', 'content_berita', 'content_berita', 'content_berita', 'content_berita', 'content_berita', 'content_berita', 'content_berita', 'content_berita', 'content_berita', 'content_berita', 'content_iklan', 'content_berita', 'functionality', 'functionality', 'content_berita', 'content_berita', 'content_berita', 'content_berita', 'content_berita', 'content_berita', 'content_berita', 'content_berita', 'functionality', 'functionality', 'functionality', 'content_iklan', 'functionality', 'functionality', 'content_iklan', 'content_berita', 'content_berita', 'content_berita', 'content_berita', 'content_berita', 'content_berita', 'content_berita', 'content_berita', 'content_berita', 'content_berita', 'content_berita', 'content_berita', 'content_berita', 'content_berita', 'content_berita', 'content_berita', 'content_berita', 'content_berita', 'interactivity', 'content_berita', 'content_berita', 'functionality', 'content_berita', 'content_berita', 'content_berita', 'content_berita', 'content_berita', 'content_berita', 'content_berita', 'content_berita', 'content_berita', 'content_berita', 'content_berita', 'content_berita', 'functionality', 'content_berita', 'content_berita', 'content_berita', 'content_berita', 'content_berita', 'content_berita', 'functionality', 'content_berita', 'content_berita', 'functionality', 'content_berita', 'content_berita', 'functionality', 'content_berita', 'content_berita', 'content_berita', 'content_berita', 'navigation', 'content_berita', 'content_iklan', 'functionality', 'functionality', 'functionality', 'functionality', 'content_berita', 'content_berita', 'content_berita', 'content_berita', 'content_berita', 'content_berita', 'content_berita', 'functionality', 'content_berita', 'content_berita', 'content_berita', 'content_berita', 'content_berita', 'content_berita', 'content_berita', 'content_berita', 'content_berita', 'content_berita', 'content_berita', 'functionality', 'content_berita', 'content_berita', 'content_berita', 'content_berita', 'content_berita', 'content_berita', 'functionality', 'functionality', 'functionality', 'functionality', 'functionality', 'functionality', 'content_berita', 'functionality', 'functionality', 'content_berita', 'functionality', 'content_berita', 'content_berita', 'content_berita', 'content_berita', 'content_berita', 'content_berita', 'content_berita', 'content_berita', 'functionality', 'content_berita', 'content_berita', 'content_berita', 'content_berita', 'content_berita', 'content_berita', 'functionality', 'functionality', 'functionality', 'content_berita', 'content_berita', 'content_berita', 'functionality', 'content_berita', 'content_berita', 'content_berita', 'content_berita', 'content_berita', 'navigation', 'content_berita', 'functionality', 'content_berita', 'navigation', 'content_iklan']\n"
     ]
    }
   ],
   "source": [
    "labels = [] #membuat kolom labels\n",
    "for data in df['kategori']:#untuk data di df row kategori\n",
    "    labels.append(data)\n",
    "kolom = labels.pop\n",
    "print(labels)"
   ]
  },
  {
   "cell_type": "code",
   "execution_count": 10,
   "id": "dc8a75cd",
   "metadata": {},
   "outputs": [],
   "source": [
    "#kemudian kategori diberi label\n",
    "label=[]\n",
    "for i in range(len(labels)): \n",
    "    if labels[i]=='content_berita':\n",
    "        nilai = 0\n",
    "        label.append(nilai)\n",
    "    \n",
    "    if labels[i]=='functionality':\n",
    "        nilai = 1\n",
    "        label.append(nilai)\n",
    "    \n",
    "    if labels[i]=='content_iklan':\n",
    "        nilai = 2\n",
    "        label.append(nilai)\n",
    "        \n",
    "    if labels[i]=='navigation':\n",
    "        nilai = 3\n",
    "        label.append(nilai)\n",
    "        \n",
    "    if labels[i]=='interactivity':\n",
    "        nilai = 4\n",
    "        label.append(nilai)\n",
    "        \n",
    "    if labels[i]=='video / audio quality':\n",
    "        nilai = 5\n",
    "        label.append(nilai)\n",
    "    "
   ]
  },
  {
   "cell_type": "code",
   "execution_count": 11,
   "id": "4a631ef7",
   "metadata": {},
   "outputs": [
    {
     "name": "stdout",
     "output_type": "stream",
     "text": [
      "2000\n",
      "2000\n",
      "[0, 0, 0, 1, 0, 2, 0, 0, 1, 0, 3, 0, 1, 1, 0, 0, 1, 5, 0, 0, 0, 0, 0, 0, 0, 0, 0, 5, 2, 0, 1, 0, 0, 0, 2, 0, 0, 0, 1, 1, 0, 0, 0, 1, 0, 0, 0, 1, 0, 5, 0, 0, 0, 0, 0, 0, 0, 0, 0, 5, 0, 0, 0, 2, 3, 0, 0, 0, 0, 0, 5, 0, 0, 0, 0, 0, 1, 0, 1, 1, 1, 1, 1, 0, 0, 1, 2, 1, 0, 1, 0, 0, 1, 0, 0, 0, 0, 0, 0, 1, 0, 4, 1, 0, 0, 2, 2, 0, 0, 5, 0, 1, 1, 0, 0, 0, 1, 1, 0, 4, 0, 0, 0, 3, 0, 0, 1, 0, 0, 2, 0, 0, 0, 0, 0, 0, 0, 0, 1, 1, 0, 0, 1, 0, 0, 0, 0, 1, 0, 1, 1, 0, 2, 0, 0, 0, 0, 0, 0, 0, 1, 0, 0, 0, 1, 0, 1, 0, 0, 0, 1, 0, 0, 0, 0, 1, 0, 1, 0, 3, 0, 0, 1, 0, 1, 0, 1, 0, 1, 1, 1, 0, 0, 0, 0, 0, 1, 0, 0, 0, 2, 0, 0, 0, 3, 0, 0, 0, 0, 2, 3, 0, 0, 0, 0, 0, 0, 0, 1, 0, 1, 0, 0, 0, 0, 0, 0, 0, 0, 1, 0, 0, 0, 0, 0, 0, 4, 0, 0, 0, 0, 5, 0, 3, 1, 0, 0, 0, 0, 0, 0, 0, 0, 0, 0, 0, 0, 0, 0, 0, 5, 0, 0, 1, 1, 0, 0, 1, 0, 1, 0, 3, 0, 2, 0, 0, 0, 0, 1, 3, 0, 0, 0, 0, 0, 0, 3, 0, 0, 1, 0, 0, 0, 0, 2, 0, 0, 0, 0, 0, 0, 1, 2, 0, 0, 0, 0, 0, 0, 0, 0, 0, 0, 1, 0, 3, 0, 0, 1, 0, 1, 0, 1, 1, 0, 0, 0, 0, 0, 0, 0, 1, 0, 0, 0, 0, 0, 0, 0, 0, 0, 1, 0, 0, 0, 0, 0, 0, 0, 0, 0, 2, 0, 0, 0, 1, 0, 0, 0, 0, 0, 0, 0, 0, 1, 0, 0, 0, 0, 0, 0, 0, 2, 2, 1, 0, 0, 0, 0, 0, 0, 0, 0, 1, 0, 0, 3, 1, 0, 0, 0, 1, 0, 0, 0, 0, 0, 0, 0, 0, 1, 1, 1, 0, 0, 0, 0, 0, 0, 0, 0, 1, 0, 2, 0, 0, 0, 0, 0, 0, 1, 0, 2, 2, 0, 3, 2, 0, 1, 0, 0, 0, 0, 0, 0, 0, 0, 0, 0, 1, 2, 1, 0, 0, 1, 0, 0, 0, 0, 1, 0, 0, 0, 0, 0, 2, 0, 0, 5, 3, 3, 0, 1, 1, 0, 0, 0, 1, 1, 0, 0, 5, 1, 5, 1, 5, 0, 0, 0, 0, 0, 1, 0, 0, 0, 0, 0, 1, 0, 0, 0, 0, 0, 0, 0, 0, 0, 2, 0, 0, 0, 0, 1, 0, 1, 0, 1, 0, 0, 0, 4, 1, 1, 0, 1, 0, 1, 0, 0, 0, 0, 0, 0, 1, 0, 0, 1, 1, 1, 0, 1, 0, 0, 0, 1, 0, 0, 0, 0, 0, 0, 0, 0, 0, 0, 0, 0, 0, 0, 0, 0, 2, 0, 0, 0, 1, 0, 0, 0, 0, 2, 0, 1, 1, 0, 5, 0, 0, 3, 1, 0, 0, 1, 0, 1, 0, 0, 1, 0, 0, 0, 0, 0, 0, 0, 0, 0, 0, 0, 1, 2, 1, 1, 0, 5, 0, 1, 0, 0, 0, 2, 0, 0, 1, 0, 0, 0, 0, 0, 0, 2, 1, 0, 1, 0, 1, 0, 0, 0, 1, 0, 0, 1, 0, 0, 0, 0, 1, 1, 1, 0, 0, 0, 0, 0, 0, 0, 0, 0, 0, 0, 0, 0, 0, 2, 0, 0, 0, 0, 0, 0, 0, 0, 0, 0, 0, 0, 0, 1, 0, 2, 0, 5, 1, 0, 0, 1, 0, 0, 0, 0, 0, 0, 2, 1, 1, 0, 0, 0, 0, 0, 0, 0, 0, 0, 4, 0, 0, 0, 0, 2, 1, 0, 0, 0, 1, 1, 0, 1, 1, 0, 0, 0, 1, 0, 0, 0, 0, 0, 0, 0, 0, 0, 0, 0, 0, 0, 0, 0, 0, 0, 0, 0, 1, 0, 0, 0, 0, 0, 2, 0, 0, 1, 0, 0, 0, 0, 0, 0, 0, 0, 0, 1, 1, 1, 0, 0, 0, 0, 0, 0, 0, 0, 1, 0, 0, 0, 1, 0, 0, 0, 1, 0, 1, 0, 0, 0, 1, 1, 1, 0, 0, 0, 0, 1, 0, 0, 1, 0, 4, 0, 0, 0, 0, 0, 0, 0, 0, 0, 1, 1, 0, 0, 0, 0, 0, 1, 0, 0, 0, 1, 0, 0, 0, 1, 0, 1, 1, 0, 0, 0, 0, 1, 1, 1, 0, 0, 0, 0, 0, 0, 1, 0, 1, 0, 0, 1, 0, 0, 0, 1, 1, 1, 0, 1, 0, 0, 0, 0, 0, 1, 1, 1, 1, 1, 1, 0, 0, 1, 0, 0, 0, 0, 0, 0, 0, 1, 0, 0, 0, 0, 0, 0, 0, 1, 0, 0, 1, 0, 0, 0, 1, 0, 0, 0, 0, 0, 0, 0, 0, 1, 0, 0, 0, 0, 0, 0, 0, 0, 0, 1, 0, 0, 0, 0, 0, 0, 0, 1, 1, 1, 0, 0, 0, 1, 1, 0, 0, 0, 0, 0, 0, 0, 0, 0, 0, 0, 0, 0, 0, 0, 0, 0, 0, 0, 0, 1, 0, 0, 0, 0, 0, 0, 0, 0, 0, 0, 0, 0, 0, 0, 0, 0, 0, 0, 0, 1, 1, 0, 0, 0, 0, 0, 0, 0, 0, 0, 0, 0, 0, 0, 0, 0, 0, 0, 0, 0, 0, 0, 0, 0, 0, 0, 0, 4, 0, 0, 0, 0, 0, 1, 0, 0, 0, 0, 0, 0, 0, 0, 0, 0, 0, 0, 0, 0, 0, 0, 0, 0, 0, 0, 0, 0, 0, 1, 1, 0, 0, 0, 0, 0, 0, 1, 4, 0, 1, 0, 0, 0, 1, 1, 0, 0, 0, 0, 0, 0, 1, 1, 0, 0, 0, 0, 0, 0, 0, 0, 1, 0, 0, 1, 0, 0, 0, 0, 0, 0, 0, 0, 0, 0, 2, 1, 0, 0, 0, 0, 0, 0, 0, 0, 0, 0, 0, 0, 1, 0, 0, 0, 0, 0, 0, 0, 2, 1, 1, 0, 1, 0, 0, 0, 4, 0, 0, 0, 0, 0, 0, 0, 1, 0, 0, 0, 0, 1, 0, 2, 0, 0, 0, 0, 2, 0, 1, 0, 0, 0, 0, 0, 0, 0, 0, 0, 0, 0, 0, 0, 0, 0, 1, 0, 0, 1, 0, 0, 0, 0, 0, 0, 0, 0, 0, 0, 0, 0, 0, 0, 0, 0, 0, 0, 1, 0, 0, 2, 0, 0, 0, 0, 0, 0, 0, 1, 0, 0, 1, 0, 0, 0, 0, 0, 0, 0, 0, 0, 0, 0, 0, 0, 0, 0, 0, 0, 0, 0, 0, 0, 1, 0, 1, 0, 1, 1, 0, 0, 1, 1, 0, 0, 0, 0, 0, 0, 0, 0, 0, 0, 0, 1, 1, 1, 0, 0, 0, 0, 0, 1, 1, 0, 0, 0, 0, 0, 0, 0, 0, 0, 0, 0, 0, 0, 1, 1, 0, 0, 0, 1, 0, 0, 0, 0, 1, 0, 1, 0, 1, 0, 1, 1, 0, 0, 1, 2, 3, 1, 0, 0, 1, 0, 1, 0, 0, 0, 1, 0, 0, 0, 0, 0, 0, 0, 0, 0, 1, 0, 1, 0, 0, 0, 1, 1, 0, 0, 0, 0, 0, 0, 0, 1, 1, 1, 0, 0, 0, 0, 1, 1, 0, 0, 0, 0, 0, 0, 0, 0, 0, 0, 0, 0, 0, 0, 0, 0, 0, 0, 0, 0, 0, 1, 0, 0, 0, 0, 0, 0, 1, 0, 1, 0, 0, 0, 0, 0, 0, 1, 0, 0, 1, 1, 0, 0, 0, 0, 0, 0, 0, 0, 0, 1, 0, 0, 0, 0, 0, 0, 0, 0, 0, 0, 0, 0, 1, 0, 0, 0, 0, 0, 0, 0, 0, 0, 0, 0, 0, 0, 0, 1, 0, 1, 0, 3, 0, 0, 0, 0, 0, 0, 4, 0, 0, 0, 1, 1, 0, 1, 0, 0, 0, 0, 0, 0, 1, 0, 0, 1, 0, 0, 0, 0, 0, 0, 0, 0, 0, 0, 0, 0, 0, 2, 0, 0, 1, 0, 1, 0, 0, 0, 0, 0, 0, 0, 0, 0, 0, 0, 0, 0, 0, 0, 0, 1, 0, 0, 0, 0, 0, 0, 0, 0, 0, 0, 0, 0, 0, 0, 0, 0, 0, 0, 0, 0, 0, 0, 0, 0, 0, 0, 0, 0, 0, 0, 0, 0, 0, 0, 0, 0, 0, 1, 0, 0, 3, 1, 0, 0, 0, 0, 0, 0, 0, 0, 0, 0, 0, 0, 1, 1, 1, 1, 1, 1, 0, 0, 0, 0, 0, 0, 0, 0, 1, 0, 0, 0, 0, 0, 0, 0, 0, 0, 0, 2, 0, 0, 0, 0, 0, 1, 0, 4, 1, 0, 0, 2, 0, 0, 0, 0, 0, 2, 0, 0, 0, 2, 0, 0, 2, 2, 0, 0, 0, 0, 0, 0, 0, 0, 0, 0, 0, 0, 0, 0, 0, 1, 1, 4, 0, 0, 0, 3, 0, 0, 1, 0, 0, 0, 0, 0, 0, 0, 0, 0, 0, 1, 2, 0, 2, 1, 0, 0, 0, 0, 0, 0, 1, 1, 0, 0, 0, 0, 0, 0, 0, 0, 0, 0, 0, 0, 0, 0, 0, 1, 1, 2, 0, 1, 0, 0, 0, 0, 0, 0, 1, 1, 0, 1, 0, 1, 1, 1, 0, 0, 1, 0, 2, 1, 0, 0, 0, 0, 0, 0, 0, 0, 0, 0, 0, 0, 0, 0, 0, 0, 0, 1, 1, 0, 1, 0, 0, 0, 0, 0, 0, 0, 0, 0, 1, 1, 0, 0, 1, 0, 1, 0, 1, 0, 0, 1, 1, 0, 0, 0, 0, 0, 0, 0, 0, 0, 0, 0, 0, 0, 0, 1, 1, 1, 0, 0, 0, 0, 0, 0, 0, 0, 0, 0, 0, 0, 0, 0, 0, 0, 0, 0, 0, 0, 0, 0, 0, 0, 0, 0, 0, 0, 1, 0, 0, 0, 0, 0, 0, 0, 0, 0, 4, 0, 0, 0, 0, 0, 0, 0, 0, 0, 0, 0, 0, 0, 0, 0, 4, 0, 0, 0, 1, 0, 0, 0, 0, 0, 1, 0, 0, 0, 1, 1, 0, 0, 0, 0, 0, 0, 0, 0, 0, 0, 0, 1, 1, 1, 1, 1, 1, 0, 0, 0, 0, 0, 1, 0, 2, 1, 0, 0, 0, 0, 0, 0, 1, 1, 1, 1, 0, 0, 0, 0, 0, 0, 0, 0, 1, 0, 0, 0, 2, 0, 0, 0, 0, 0, 1, 0, 0, 1, 0, 0, 0, 0, 0, 0, 1, 0, 0, 0, 1, 1, 0, 0, 0, 0, 0, 0, 0, 0, 0, 0, 0, 1, 0, 0, 0, 0, 1, 0, 0, 0, 0, 0, 0, 0, 0, 0, 0, 2, 0, 1, 1, 0, 0, 0, 0, 0, 0, 0, 0, 1, 1, 1, 2, 1, 1, 2, 0, 0, 0, 0, 0, 0, 0, 0, 0, 0, 0, 0, 0, 0, 0, 0, 0, 0, 4, 0, 0, 1, 0, 0, 0, 0, 0, 0, 0, 0, 0, 0, 0, 0, 1, 0, 0, 0, 0, 0, 0, 1, 0, 0, 1, 0, 0, 1, 0, 0, 0, 0, 3, 0, 2, 1, 1, 1, 1, 0, 0, 0, 0, 0, 0, 0, 1, 0, 0, 0, 0, 0, 0, 0, 0, 0, 0, 0, 1, 0, 0, 0, 0, 0, 0, 1, 1, 1, 1, 1, 1, 0, 1, 1, 0, 1, 0, 0, 0, 0, 0, 0, 0, 0, 1, 0, 0, 0, 0, 0, 0, 1, 1, 1, 0, 0, 0, 1, 0, 0, 0, 0, 0, 3, 0, 1, 0, 3, 2]\n"
     ]
    }
   ],
   "source": [
    "print(len(label))\n",
    "print(len(df))\n",
    "print(label)"
   ]
  },
  {
   "cell_type": "code",
   "execution_count": 12,
   "id": "0167ff99",
   "metadata": {},
   "outputs": [],
   "source": [
    "from sklearn import svm #metode untuk klasifikasi aspek / kategori\n",
    "from sklearn.feature_extraction.text import TfidfTransformer, CountVectorizer #untuk menghitung vsm dan tfidf #vsm =vector space model\n",
    "from sklearn import metrics #metode untuk pembentukan matriks 1x1 1x2 1x3\n",
    "from sklearn.metrics import accuracy_score #metod untuk pembentukan skor akurasi \n",
    "from sklearn.model_selection import KFold #metode untuk perhitungan kfold\n",
    "import numpy as np \n",
    "import re #regular expression\n",
    "import itertools #fungsi pengulangan tak terbatas\n",
    "import matplotlib.pyplot as plt #pembentukan diagram\n",
    "from sklearn.metrics import confusion_matrix\n",
    "from sklearn.svm import SVC #suport vector classifier\n",
    "from sklearn.metrics import classification_report"
   ]
  },
  {
   "cell_type": "code",
   "execution_count": 13,
   "id": "9d260b06",
   "metadata": {},
   "outputs": [
    {
     "name": "stdout",
     "output_type": "stream",
     "text": [
      "[0, 0, 0, 1, 0, 2, 0, 0, 1, 0, 3, 0, 1, 1, 0, 0, 1, 5, 0, 0, 0, 0, 0, 0, 0, 0, 0, 5, 2, 0, 1, 0, 0, 0, 2, 0, 0, 0, 1, 1, 0, 0, 0, 1, 0, 0, 0, 1, 0, 5, 0, 0, 0, 0, 0, 0, 0, 0, 0, 5, 0, 0, 0, 2, 3, 0, 0, 0, 0, 0, 5, 0, 0, 0, 0, 0, 1, 0, 1, 1, 1, 1, 1, 0, 0, 1, 2, 1, 0, 1, 0, 0, 1, 0, 0, 0, 0, 0, 0, 1, 0, 4, 1, 0, 0, 2, 2, 0, 0, 5, 0, 1, 1, 0, 0, 0, 1, 1, 0, 4, 0, 0, 0, 3, 0, 0, 1, 0, 0, 2, 0, 0, 0, 0, 0, 0, 0, 0, 1, 1, 0, 0, 1, 0, 0, 0, 0, 1, 0, 1, 1, 0, 2, 0, 0, 0, 0, 0, 0, 0, 1, 0, 0, 0, 1, 0, 1, 0, 0, 0, 1, 0, 0, 0, 0, 1, 0, 1, 0, 3, 0, 0, 1, 0, 1, 0, 1, 0, 1, 1, 1, 0, 0, 0, 0, 0, 1, 0, 0, 0, 2, 0, 0, 0, 3, 0, 0, 0, 0, 2, 3, 0, 0, 0, 0, 0, 0, 0, 1, 0, 1, 0, 0, 0, 0, 0, 0, 0, 0, 1, 0, 0, 0, 0, 0, 0, 4, 0, 0, 0, 0, 5, 0, 3, 1, 0, 0, 0, 0, 0, 0, 0, 0, 0, 0, 0, 0, 0, 0, 0, 5, 0, 0, 1, 1, 0, 0, 1, 0, 1, 0, 3, 0, 2, 0, 0, 0, 0, 1, 3, 0, 0, 0, 0, 0, 0, 3, 0, 0, 1, 0, 0, 0, 0, 2, 0, 0, 0, 0, 0, 0, 1, 2, 0, 0, 0, 0, 0, 0, 0, 0, 0, 0, 1, 0, 3, 0, 0, 1, 0, 1, 0, 1, 1, 0, 0, 0, 0, 0, 0, 0, 1, 0, 0, 0, 0, 0, 0, 0, 0, 0, 1, 0, 0, 0, 0, 0, 0, 0, 0, 0, 2, 0, 0, 0, 1, 0, 0, 0, 0, 0, 0, 0, 0, 1, 0, 0, 0, 0, 0, 0, 0, 2, 2, 1, 0, 0, 0, 0, 0, 0, 0, 0, 1, 0, 0, 3, 1, 0, 0, 0, 1, 0, 0, 0, 0, 0, 0, 0, 0, 1, 1, 1, 0, 0, 0, 0, 0, 0, 0, 0, 1, 0, 2, 0, 0, 0, 0, 0, 0, 1, 0, 2, 2, 0, 3, 2, 0, 1, 0, 0, 0, 0, 0, 0, 0, 0, 0, 0, 1, 2, 1, 0, 0, 1, 0, 0, 0, 0, 1, 0, 0, 0, 0, 0, 2, 0, 0, 5, 3, 3, 0, 1, 1, 0, 0, 0, 1, 1, 0, 0, 5, 1, 5, 1, 5, 0, 0, 0, 0, 0, 1, 0, 0, 0, 0, 0, 1, 0, 0, 0, 0, 0, 0, 0, 0, 0, 2, 0, 0, 0, 0, 1, 0, 1, 0, 1, 0, 0, 0, 4, 1, 1, 0, 1, 0, 1, 0, 0, 0, 0, 0, 0, 1, 0, 0, 1, 1, 1, 0, 1, 0, 0, 0, 1, 0, 0, 0, 0, 0, 0, 0, 0, 0, 0, 0, 0, 0, 0, 0, 0, 2, 0, 0, 0, 1, 0, 0, 0, 0, 2, 0, 1, 1, 0, 5, 0, 0, 3, 1, 0, 0, 1, 0, 1, 0, 0, 1, 0, 0, 0, 0, 0, 0, 0, 0, 0, 0, 0, 1, 2, 1, 1, 0, 5, 0, 1, 0, 0, 0, 2, 0, 0, 1, 0, 0, 0, 0, 0, 0, 2, 1, 0, 1, 0, 1, 0, 0, 0, 1, 0, 0, 1, 0, 0, 0, 0, 1, 1, 1, 0, 0, 0, 0, 0, 0, 0, 0, 0, 0, 0, 0, 0, 0, 2, 0, 0, 0, 0, 0, 0, 0, 0, 0, 0, 0, 0, 0, 1, 0, 2, 0, 5, 1, 0, 0, 1, 0, 0, 0, 0, 0, 0, 2, 1, 1, 0, 0, 0, 0, 0, 0, 0, 0, 0, 4, 0, 0, 0, 0, 2, 1, 0, 0, 0, 1, 1, 0, 1, 1, 0, 0, 0, 1, 0, 0, 0, 0, 0, 0, 0, 0, 0, 0, 0, 0, 0, 0, 0, 0, 0, 0, 0, 1, 0, 0, 0, 0, 0, 2, 0, 0, 1, 0, 0, 0, 0, 0, 0, 0, 0, 0, 1, 1, 1, 0, 0, 0, 0, 0, 0, 0, 0, 1, 0, 0, 0, 1, 0, 0, 0, 1, 0, 1, 0, 0, 0, 1, 1, 1, 0, 0, 0, 0, 1, 0, 0, 1, 0, 4, 0, 0, 0, 0, 0, 0, 0, 0, 0, 1, 1, 0, 0, 0, 0, 0, 1, 0, 0, 0, 1, 0, 0, 0, 1, 0, 1, 1, 0, 0, 0, 0, 1, 1, 1, 0, 0, 0, 0, 0, 0, 1, 0, 1, 0, 0, 1, 0, 0, 0, 1, 1, 1, 0, 1, 0, 0, 0, 0, 0, 1, 1, 1, 1, 1, 1, 0, 0, 1, 0, 0, 0, 0, 0, 0, 0, 1, 0, 0, 0, 0, 0, 0, 0, 1, 0, 0, 1, 0, 0, 0, 1, 0, 0, 0, 0, 0, 0, 0, 0, 1, 0, 0, 0, 0, 0, 0, 0, 0, 0, 1, 0, 0, 0, 0, 0, 0, 0, 1, 1, 1, 0, 0, 0, 1, 1, 0, 0, 0, 0, 0, 0, 0, 0, 0, 0, 0, 0, 0, 0, 0, 0, 0, 0, 0, 0, 1, 0, 0, 0, 0, 0, 0, 0, 0, 0, 0, 0, 0, 0, 0, 0, 0, 0, 0, 0, 1, 1, 0, 0, 0, 0, 0, 0, 0, 0, 0, 0, 0, 0, 0, 0, 0, 0, 0, 0, 0, 0, 0, 0, 0, 0, 0, 0, 4, 0, 0, 0, 0, 0, 1, 0, 0, 0, 0, 0, 0, 0, 0, 0, 0, 0, 0, 0, 0, 0, 0, 0, 0, 0, 0, 0, 0, 0, 1, 1, 0, 0, 0, 0, 0, 0, 1, 4, 0, 1, 0, 0, 0, 1, 1, 0, 0, 0, 0, 0, 0, 1, 1, 0, 0, 0, 0, 0, 0, 0, 0, 1, 0, 0, 1, 0, 0, 0, 0, 0, 0, 0, 0, 0, 0, 2, 1, 0, 0, 0, 0, 0, 0, 0, 0, 0, 0, 0, 0, 1, 0, 0, 0, 0, 0, 0, 0, 2, 1, 1, 0, 1, 0, 0, 0, 4, 0, 0, 0, 0, 0, 0, 0, 1, 0, 0, 0, 0, 1, 0, 2, 0, 0, 0, 0, 2, 0, 1, 0, 0, 0, 0, 0, 0, 0, 0, 0, 0, 0, 0, 0, 0, 0, 1, 0, 0, 1, 0, 0, 0, 0, 0, 0, 0, 0, 0, 0, 0, 0, 0, 0, 0, 0, 0, 0, 1, 0, 0, 2, 0, 0, 0, 0, 0, 0, 0, 1, 0, 0, 1, 0, 0, 0, 0, 0, 0, 0, 0, 0, 0, 0, 0, 0, 0, 0, 0, 0, 0, 0, 0, 0, 1, 0, 1, 0, 1, 1, 0, 0, 1, 1, 0, 0, 0, 0, 0, 0, 0, 0, 0, 0, 0, 1, 1, 1, 0, 0, 0, 0, 0, 1, 1, 0, 0, 0, 0, 0, 0, 0, 0, 0, 0, 0, 0, 0, 1, 1, 0, 0, 0, 1, 0, 0, 0, 0, 1, 0, 1, 0, 1, 0, 1, 1, 0, 0, 1, 2, 3, 1, 0, 0, 1, 0, 1, 0, 0, 0, 1, 0, 0, 0, 0, 0, 0, 0, 0, 0, 1, 0, 1, 0, 0, 0, 1, 1, 0, 0, 0, 0, 0, 0, 0, 1, 1, 1, 0, 0, 0, 0, 1, 1, 0, 0, 0, 0, 0, 0, 0, 0, 0, 0, 0, 0, 0, 0, 0, 0, 0, 0, 0, 0, 0, 1, 0, 0, 0, 0, 0, 0, 1, 0, 1, 0, 0, 0, 0, 0, 0, 1, 0, 0, 1, 1, 0, 0, 0, 0, 0, 0, 0, 0, 0, 1, 0, 0, 0, 0, 0, 0, 0, 0, 0, 0, 0, 0, 1, 0, 0, 0, 0, 0, 0, 0, 0, 0, 0, 0, 0, 0, 0, 1, 0, 1, 0, 3, 0, 0, 0, 0, 0, 0, 4, 0, 0, 0, 1, 1, 0, 1, 0, 0, 0, 0, 0, 0, 1, 0, 0, 1, 0, 0, 0, 0, 0, 0, 0, 0, 0, 0, 0, 0, 0, 2, 0, 0, 1, 0, 1, 0, 0, 0, 0, 0, 0, 0, 0, 0, 0, 0, 0, 0, 0, 0, 0, 1, 0, 0, 0, 0, 0, 0, 0, 0, 0, 0, 0, 0, 0, 0, 0, 0, 0, 0, 0, 0, 0, 0, 0, 0, 0, 0, 0, 0, 0, 0, 0, 0, 0, 0, 0, 0, 0, 1, 0, 0, 3, 1, 0, 0, 0, 0, 0, 0, 0, 0, 0, 0, 0, 0, 1, 1, 1, 1, 1, 1, 0, 0, 0, 0, 0, 0, 0, 0, 1, 0, 0, 0, 0, 0, 0, 0, 0, 0, 0, 2, 0, 0, 0, 0, 0, 1, 0, 4, 1, 0, 0, 2, 0, 0, 0, 0, 0, 2, 0, 0, 0, 2, 0, 0, 2, 2, 0, 0, 0, 0, 0, 0, 0, 0, 0, 0, 0, 0, 0, 0, 0, 1, 1, 4, 0, 0, 0, 3, 0, 0, 1, 0, 0, 0, 0, 0, 0, 0, 0, 0, 0, 1, 2, 0, 2, 1, 0, 0, 0, 0, 0, 0, 1, 1, 0, 0, 0, 0, 0, 0, 0, 0, 0, 0, 0, 0, 0, 0, 0, 1, 1, 2, 0, 1, 0, 0, 0, 0, 0, 0, 1, 1, 0, 1, 0, 1, 1, 1, 0, 0, 1, 0, 2, 1, 0, 0, 0, 0, 0, 0, 0, 0, 0, 0, 0, 0, 0, 0, 0, 0, 0, 1, 1, 0, 1, 0, 0, 0, 0, 0, 0, 0, 0, 0, 1, 1, 0, 0, 1, 0, 1, 0, 1, 0, 0, 1, 1, 0, 0, 0, 0, 0, 0, 0, 0, 0, 0, 0, 0, 0, 0, 1, 1, 1, 0, 0, 0, 0, 0, 0, 0, 0, 0, 0, 0, 0, 0, 0, 0, 0, 0, 0, 0, 0, 0, 0, 0, 0, 0, 0, 0, 0, 1, 0, 0, 0, 0, 0, 0, 0, 0, 0, 4, 0, 0, 0, 0, 0, 0, 0, 0, 0, 0, 0, 0, 0, 0, 0, 4, 0, 0, 0, 1, 0, 0, 0, 0, 0, 1, 0, 0, 0, 1, 1, 0, 0, 0, 0, 0, 0, 0, 0, 0, 0, 0, 1, 1, 1, 1, 1, 1, 0, 0, 0, 0, 0, 1, 0, 2, 1, 0, 0, 0, 0, 0, 0, 1, 1, 1, 1, 0, 0, 0, 0, 0, 0, 0, 0, 1, 0, 0, 0, 2, 0, 0, 0, 0, 0, 1, 0, 0, 1, 0, 0, 0, 0, 0, 0, 1, 0, 0, 0, 1, 1, 0, 0, 0, 0, 0, 0, 0, 0, 0, 0, 0, 1, 0, 0, 0, 0, 1, 0, 0, 0, 0, 0, 0, 0, 0, 0, 0, 2, 0, 1, 1, 0, 0, 0, 0, 0, 0, 0, 0, 1, 1, 1, 2, 1, 1, 2, 0, 0, 0, 0, 0, 0, 0, 0, 0, 0, 0, 0, 0, 0, 0, 0, 0, 0, 4, 0, 0, 1, 0, 0, 0, 0, 0, 0, 0, 0, 0, 0, 0, 0, 1, 0, 0, 0, 0, 0, 0, 1, 0, 0, 1, 0, 0, 1, 0, 0, 0, 0, 3, 0, 2, 1, 1, 1, 1, 0, 0, 0, 0, 0, 0, 0, 1, 0, 0, 0, 0, 0, 0, 0, 0, 0, 0, 0, 1, 0, 0, 0, 0, 0, 0, 1, 1, 1, 1, 1, 1, 0, 1, 1, 0, 1, 0, 0, 0, 0, 0, 0, 0, 0, 1, 0, 0, 0, 0, 0, 0, 1, 1, 1, 0, 0, 0, 1, 0, 0, 0, 0, 0, 3, 0, 1, 0, 3, 2]\n"
     ]
    }
   ],
   "source": [
    "print(label)"
   ]
  },
  {
   "cell_type": "code",
   "execution_count": 14,
   "id": "18dfd586",
   "metadata": {},
   "outputs": [],
   "source": [
    "#METHOD MENGHITUNG RATA2 AKURASI#\n",
    "akurasi = []\n",
    "akurasi1 = []\n",
    "akurasi2 = []\n",
    "akurasi3 = []\n",
    "def avg_akurasiLinear(): ## nama fungsi\n",
    "    total = 0 ## pengosongan variabel\n",
    "    for i in range(10): ## looping 10x karena ada 10 fold\n",
    "        total = total + akurasi[i] ## tiap looping nilai total akan ditambahkan dengan nilai akurasi tiap fold\n",
    "    print(\"------------------------------------------------------------\") \n",
    "    print(\"Rata-rata akurasi keseluruhan SVM LinearSVC adalah :\", total / 10) ## cetak rata-rata akurasi\n",
    "def avg_akurasiSVM(): ## nama fungsi\n",
    "    total = 0 ## pengosongan variabel\n",
    "    for i in range(10): ## looping 10x karena ada 10 fold\n",
    "        total = total + akurasi1[i] ## tiap looping nilai total akan ditambahkan dengan nilai akurasi tiap fold\n",
    "    print(\"Rata-rata akurasi keseluruhan SVM kernel Linear adalah :\", total / 10) ## cetak rata-rata akurasi\n",
    "def avg_akurasiPolynomial(): ## nama fungsi\n",
    "    total = 0 ## pengosongan variabel\n",
    "    for i in range(10): ## looping 10x karena ada 10 fold\n",
    "        total = total + akurasi2[i] ## tiap looping nilai total akan ditambahkan dengan nilai akurasi tiap fold\n",
    "    print(\"Rata-rata akurasi keseluruhan SVM kernel Polynomial adalah :\", total / 10) ## cetak rata-rata akurasi\n",
    "def avg_akurasiRBF(): ## nama fungsi\n",
    "    total = 0 ## pengosongan variabel\n",
    "    for i in range(10): ## looping 10x karena ada 10 fold\n",
    "        total = total + akurasi3[i] ## tiap looping nilai total akan ditambahkan dengan nilai akurasi tiap fold\n",
    "    print(\"Rata-rata akurasi keseluruhan SVM kernel RBF adalah :\", total / 10) ## cetak rata-rata akurasi"
   ]
  },
  {
   "cell_type": "code",
   "execution_count": 16,
   "id": "6e759ed2",
   "metadata": {},
   "outputs": [
    {
     "name": "stdout",
     "output_type": "stream",
     "text": [
      "-----------------------------\n",
      "Banyak Data Latih:  1800\n",
      "Banyak Data Uji:  200\n",
      "\n",
      "Data Latih: \n",
      " [ 200  201  202 ... 1997 1998 1999]\n",
      "\n",
      "Data Uji: \n",
      " [  0   1   2   3   4   5   6   7   8   9  10  11  12  13  14  15  16  17\n",
      "  18  19  20  21  22  23  24  25  26  27  28  29  30  31  32  33  34  35\n",
      "  36  37  38  39  40  41  42  43  44  45  46  47  48  49  50  51  52  53\n",
      "  54  55  56  57  58  59  60  61  62  63  64  65  66  67  68  69  70  71\n",
      "  72  73  74  75  76  77  78  79  80  81  82  83  84  85  86  87  88  89\n",
      "  90  91  92  93  94  95  96  97  98  99 100 101 102 103 104 105 106 107\n",
      " 108 109 110 111 112 113 114 115 116 117 118 119 120 121 122 123 124 125\n",
      " 126 127 128 129 130 131 132 133 134 135 136 137 138 139 140 141 142 143\n",
      " 144 145 146 147 148 149 150 151 152 153 154 155 156 157 158 159 160 161\n",
      " 162 163 164 165 166 167 168 169 170 171 172 173 174 175 176 177 178 179\n",
      " 180 181 182 183 184 185 186 187 188 189 190 191 192 193 194 195 196 197\n",
      " 198 199]\n",
      "\n",
      "Hasil Prediksi SVM RBF: \n",
      " [0 0 0 1 0 2 0 0 1 0 0 0 1 1 0 0 1 0 0 0 0 0 0 0 0 0 0 0 2 0 0 0 0 0 2 0 0\n",
      " 0 1 1 0 0 0 0 0 0 0 0 0 0 0 0 0 0 0 0 0 0 0 0 0 0 0 2 0 0 0 0 0 0 0 0 0 0\n",
      " 0 0 0 0 0 0 0 0 0 0 0 0 2 0 0 0 0 0 1 0 0 0 0 0 0 1 0 0 0 0 0 2 2 0 0 0 0\n",
      " 0 0 0 0 0 1 0 0 1 0 0 0 0 0 0 1 0 0 2 0 0 0 0 0 0 0 0 0 1 0 0 0 0 0 0 0 0\n",
      " 0 1 0 0 0 0 0 0 0 0 0 0 0 0 0 0 0 0 0 0 0 0 1 0 0 0 0 0 0 0 0 0 0 0 0 0 1\n",
      " 0 0 0 1 1 0 0 0 0 0 0 1 0 0 0]\n",
      "\n",
      "Confusion Matrix: \n",
      " [[132   1   0   0   0   0]\n",
      " [ 26  19   0   0   0   1]\n",
      " [  1   0   8   0   0   0]\n",
      " [  3   0   0   1   0   0]\n",
      " [  1   1   0   0   0   0]\n",
      " [  6   0   0   0   0   0]]\n",
      "\n",
      "Akurasi SVM kernel RBF:  0.795\n",
      "\n",
      "              precision    recall  f1-score   support\n",
      "\n",
      "           0       0.78      0.99      0.87       133\n",
      "           1       0.90      0.41      0.57        46\n",
      "           2       1.00      0.89      0.94         9\n",
      "           3       1.00      0.25      0.40         4\n",
      "           4       0.00      0.00      0.00         2\n",
      "           5       0.00      0.00      0.00         6\n",
      "\n",
      "    accuracy                           0.80       200\n",
      "   macro avg       0.61      0.42      0.46       200\n",
      "weighted avg       0.79      0.80      0.76       200\n",
      "\n",
      "-----------------------------\n",
      "Banyak Data Latih:  1800\n",
      "Banyak Data Uji:  200\n",
      "\n",
      "Data Latih: \n",
      " [   0    1    2 ... 1997 1998 1999]\n",
      "\n",
      "Data Uji: \n",
      " [200 201 202 203 204 205 206 207 208 209 210 211 212 213 214 215 216 217\n",
      " 218 219 220 221 222 223 224 225 226 227 228 229 230 231 232 233 234 235\n",
      " 236 237 238 239 240 241 242 243 244 245 246 247 248 249 250 251 252 253\n",
      " 254 255 256 257 258 259 260 261 262 263 264 265 266 267 268 269 270 271\n",
      " 272 273 274 275 276 277 278 279 280 281 282 283 284 285 286 287 288 289\n",
      " 290 291 292 293 294 295 296 297 298 299 300 301 302 303 304 305 306 307\n",
      " 308 309 310 311 312 313 314 315 316 317 318 319 320 321 322 323 324 325\n",
      " 326 327 328 329 330 331 332 333 334 335 336 337 338 339 340 341 342 343\n",
      " 344 345 346 347 348 349 350 351 352 353 354 355 356 357 358 359 360 361\n",
      " 362 363 364 365 366 367 368 369 370 371 372 373 374 375 376 377 378 379\n",
      " 380 381 382 383 384 385 386 387 388 389 390 391 392 393 394 395 396 397\n",
      " 398 399]\n"
     ]
    },
    {
     "name": "stderr",
     "output_type": "stream",
     "text": [
      "C:\\Users\\user\\AppData\\Roaming\\Python\\Python310\\site-packages\\sklearn\\metrics\\_classification.py:1327: UndefinedMetricWarning: Precision and F-score are ill-defined and being set to 0.0 in labels with no predicted samples. Use `zero_division` parameter to control this behavior.\n",
      "  _warn_prf(average, modifier, msg_start, len(result))\n",
      "C:\\Users\\user\\AppData\\Roaming\\Python\\Python310\\site-packages\\sklearn\\metrics\\_classification.py:1327: UndefinedMetricWarning: Precision and F-score are ill-defined and being set to 0.0 in labels with no predicted samples. Use `zero_division` parameter to control this behavior.\n",
      "  _warn_prf(average, modifier, msg_start, len(result))\n",
      "C:\\Users\\user\\AppData\\Roaming\\Python\\Python310\\site-packages\\sklearn\\metrics\\_classification.py:1327: UndefinedMetricWarning: Precision and F-score are ill-defined and being set to 0.0 in labels with no predicted samples. Use `zero_division` parameter to control this behavior.\n",
      "  _warn_prf(average, modifier, msg_start, len(result))\n"
     ]
    },
    {
     "name": "stdout",
     "output_type": "stream",
     "text": [
      "\n",
      "Hasil Prediksi SVM RBF: \n",
      " [2 0 0 0 0 0 0 0 0 2 0 0 0 0 0 0 0 0 0 0 1 0 0 0 0 0 0 0 0 0 0 0 0 0 0 0 0\n",
      " 0 0 0 0 0 0 1 1 0 0 0 0 0 0 0 0 0 0 0 0 1 0 0 0 0 0 0 0 0 0 1 0 0 0 0 0 2\n",
      " 0 0 0 0 0 0 0 0 0 0 0 0 0 0 0 1 0 0 0 0 2 0 0 0 0 0 2 0 0 0 0 0 0 0 0 0 0\n",
      " 0 0 0 0 0 0 0 0 0 1 0 0 1 0 0 0 0 0 0 0 0 0 0 0 0 0 0 0 0 0 1 0 0 0 0 0 1\n",
      " 0 0 0 2 0 0 0 0 0 0 0 0 0 0 0 0 0 0 0 0 0 0 0 0 0 2 0 0 0 0 0 0 0 0 0 0 0\n",
      " 0 0 1 0 0 0 0 0 0 0 0 0 0 0 0]\n",
      "\n",
      "Confusion Matrix: \n",
      " [[153   3   1   0   0   0]\n",
      " [ 15   9   0   0   0   0]\n",
      " [  2   0   6   0   0   0]\n",
      " [  7   1   0   0   0   0]\n",
      " [  1   0   0   0   0   0]\n",
      " [  1   1   0   0   0   0]]\n",
      "\n",
      "Akurasi SVM kernel RBF:  0.84\n",
      "\n",
      "              precision    recall  f1-score   support\n",
      "\n",
      "           0       0.85      0.97      0.91       157\n",
      "           1       0.64      0.38      0.47        24\n",
      "           2       0.86      0.75      0.80         8\n",
      "           3       0.00      0.00      0.00         8\n",
      "           4       0.00      0.00      0.00         1\n",
      "           5       0.00      0.00      0.00         2\n",
      "\n",
      "    accuracy                           0.84       200\n",
      "   macro avg       0.39      0.35      0.36       200\n",
      "weighted avg       0.78      0.84      0.80       200\n",
      "\n",
      "-----------------------------\n",
      "Banyak Data Latih:  1800\n",
      "Banyak Data Uji:  200\n",
      "\n",
      "Data Latih: \n",
      " [   0    1    2 ... 1997 1998 1999]\n",
      "\n",
      "Data Uji: \n",
      " [400 401 402 403 404 405 406 407 408 409 410 411 412 413 414 415 416 417\n",
      " 418 419 420 421 422 423 424 425 426 427 428 429 430 431 432 433 434 435\n",
      " 436 437 438 439 440 441 442 443 444 445 446 447 448 449 450 451 452 453\n",
      " 454 455 456 457 458 459 460 461 462 463 464 465 466 467 468 469 470 471\n",
      " 472 473 474 475 476 477 478 479 480 481 482 483 484 485 486 487 488 489\n",
      " 490 491 492 493 494 495 496 497 498 499 500 501 502 503 504 505 506 507\n",
      " 508 509 510 511 512 513 514 515 516 517 518 519 520 521 522 523 524 525\n",
      " 526 527 528 529 530 531 532 533 534 535 536 537 538 539 540 541 542 543\n",
      " 544 545 546 547 548 549 550 551 552 553 554 555 556 557 558 559 560 561\n",
      " 562 563 564 565 566 567 568 569 570 571 572 573 574 575 576 577 578 579\n",
      " 580 581 582 583 584 585 586 587 588 589 590 591 592 593 594 595 596 597\n",
      " 598 599]\n"
     ]
    },
    {
     "name": "stderr",
     "output_type": "stream",
     "text": [
      "C:\\Users\\user\\AppData\\Roaming\\Python\\Python310\\site-packages\\sklearn\\metrics\\_classification.py:1327: UndefinedMetricWarning: Precision and F-score are ill-defined and being set to 0.0 in labels with no predicted samples. Use `zero_division` parameter to control this behavior.\n",
      "  _warn_prf(average, modifier, msg_start, len(result))\n",
      "C:\\Users\\user\\AppData\\Roaming\\Python\\Python310\\site-packages\\sklearn\\metrics\\_classification.py:1327: UndefinedMetricWarning: Precision and F-score are ill-defined and being set to 0.0 in labels with no predicted samples. Use `zero_division` parameter to control this behavior.\n",
      "  _warn_prf(average, modifier, msg_start, len(result))\n",
      "C:\\Users\\user\\AppData\\Roaming\\Python\\Python310\\site-packages\\sklearn\\metrics\\_classification.py:1327: UndefinedMetricWarning: Precision and F-score are ill-defined and being set to 0.0 in labels with no predicted samples. Use `zero_division` parameter to control this behavior.\n",
      "  _warn_prf(average, modifier, msg_start, len(result))\n"
     ]
    },
    {
     "name": "stdout",
     "output_type": "stream",
     "text": [
      "\n",
      "Hasil Prediksi SVM RBF: \n",
      " [1 1 0 0 0 0 0 0 0 0 0 0 0 2 0 0 0 0 0 0 0 0 2 2 0 0 2 0 0 0 0 0 0 0 0 0 0\n",
      " 0 0 0 2 0 0 0 1 0 0 0 0 0 0 0 0 0 0 2 0 0 0 0 0 0 0 0 0 0 0 1 0 0 0 0 0 0\n",
      " 0 1 0 0 0 0 0 0 0 0 0 0 0 0 0 0 0 0 0 0 0 0 0 2 0 0 0 0 1 0 1 0 1 0 0 0 0\n",
      " 0 1 0 1 0 1 0 0 0 0 0 0 1 0 0 1 1 0 0 0 0 0 0 1 0 0 0 0 0 0 0 0 0 0 0 0 1\n",
      " 0 0 0 2 0 0 0 1 0 0 1 0 2 0 1 1 0 0 0 0 0 1 0 0 1 0 0 0 0 1 0 0 0 0 0 0 0\n",
      " 0 0 0 0 0 2 0 0 0 0 0 1 0 1 0]\n",
      "\n",
      "Confusion Matrix: \n",
      " [[131   6   0   0   0   0]\n",
      " [ 13  29   0   0   0   0]\n",
      " [  0   0  10   0   0   0]\n",
      " [  3   0   0   1   0   0]\n",
      " [  1   0   0   0   0   0]\n",
      " [  5   1   0   0   0   0]]\n",
      "\n",
      "Akurasi SVM kernel RBF:  0.825\n",
      "\n",
      "              precision    recall  f1-score   support\n",
      "\n",
      "           0       0.86      0.96      0.90       137\n",
      "           1       0.81      0.69      0.74        42\n",
      "           2       1.00      1.00      1.00        10\n",
      "           3       1.00      0.25      0.40         4\n",
      "           4       0.00      0.00      0.00         1\n",
      "           5       0.00      0.00      0.00         6\n",
      "\n",
      "    accuracy                           0.85       200\n",
      "   macro avg       0.61      0.48      0.51       200\n",
      "weighted avg       0.83      0.85      0.83       200\n",
      "\n",
      "-----------------------------\n",
      "Banyak Data Latih:  1800\n",
      "Banyak Data Uji:  200\n",
      "\n",
      "Data Latih: \n",
      " [   0    1    2 ... 1997 1998 1999]\n",
      "\n",
      "Data Uji: \n",
      " [600 601 602 603 604 605 606 607 608 609 610 611 612 613 614 615 616 617\n",
      " 618 619 620 621 622 623 624 625 626 627 628 629 630 631 632 633 634 635\n",
      " 636 637 638 639 640 641 642 643 644 645 646 647 648 649 650 651 652 653\n",
      " 654 655 656 657 658 659 660 661 662 663 664 665 666 667 668 669 670 671\n",
      " 672 673 674 675 676 677 678 679 680 681 682 683 684 685 686 687 688 689\n",
      " 690 691 692 693 694 695 696 697 698 699 700 701 702 703 704 705 706 707\n",
      " 708 709 710 711 712 713 714 715 716 717 718 719 720 721 722 723 724 725\n",
      " 726 727 728 729 730 731 732 733 734 735 736 737 738 739 740 741 742 743\n",
      " 744 745 746 747 748 749 750 751 752 753 754 755 756 757 758 759 760 761\n",
      " 762 763 764 765 766 767 768 769 770 771 772 773 774 775 776 777 778 779\n",
      " 780 781 782 783 784 785 786 787 788 789 790 791 792 793 794 795 796 797\n",
      " 798 799]\n"
     ]
    },
    {
     "name": "stderr",
     "output_type": "stream",
     "text": [
      "C:\\Users\\user\\AppData\\Roaming\\Python\\Python310\\site-packages\\sklearn\\metrics\\_classification.py:1327: UndefinedMetricWarning: Precision and F-score are ill-defined and being set to 0.0 in labels with no predicted samples. Use `zero_division` parameter to control this behavior.\n",
      "  _warn_prf(average, modifier, msg_start, len(result))\n",
      "C:\\Users\\user\\AppData\\Roaming\\Python\\Python310\\site-packages\\sklearn\\metrics\\_classification.py:1327: UndefinedMetricWarning: Precision and F-score are ill-defined and being set to 0.0 in labels with no predicted samples. Use `zero_division` parameter to control this behavior.\n",
      "  _warn_prf(average, modifier, msg_start, len(result))\n",
      "C:\\Users\\user\\AppData\\Roaming\\Python\\Python310\\site-packages\\sklearn\\metrics\\_classification.py:1327: UndefinedMetricWarning: Precision and F-score are ill-defined and being set to 0.0 in labels with no predicted samples. Use `zero_division` parameter to control this behavior.\n",
      "  _warn_prf(average, modifier, msg_start, len(result))\n"
     ]
    },
    {
     "name": "stdout",
     "output_type": "stream",
     "text": [
      "\n",
      "Hasil Prediksi SVM RBF: \n",
      " [2 1 0 0 0 0 0 0 0 0 2 0 0 1 0 1 0 0 0 0 0 0 1 0 0 0 0 1 0 1 0 0 0 0 0 0 0\n",
      " 0 0 0 0 0 0 0 0 0 0 0 0 0 0 0 0 0 0 0 0 0 0 0 2 0 0 0 0 0 1 0 0 0 0 0 0 0\n",
      " 0 0 0 0 0 0 0 0 0 0 2 1 0 0 0 0 2 0 1 0 0 0 0 0 0 1 0 0 0 0 0 0 0 0 0 0 0\n",
      " 0 0 0 0 0 0 0 0 1 0 0 0 1 0 0 0 0 0 0 0 0 0 0 0 0 0 0 0 0 0 0 0 0 0 0 0 0\n",
      " 0 0 0 0 0 1 0 0 0 1 0 0 0 0 0 0 0 0 0 0 0 0 0 0 0 0 1 0 0 1 0 0 0 0 0 0 0\n",
      " 0 0 0 0 1 0 0 0 0 0 0 0 0 0 0]\n",
      "\n",
      "Confusion Matrix: \n",
      " [[148   3   2   0   0]\n",
      " [ 23  14   0   0   0]\n",
      " [  1   0   6   0   0]\n",
      " [  1   1   0   0   0]\n",
      " [  1   0   0   0   0]]\n",
      "\n",
      "Akurasi SVM kernel RBF:  0.83\n",
      "\n",
      "              precision    recall  f1-score   support\n",
      "\n",
      "           0       0.85      0.97      0.91       153\n",
      "           1       0.78      0.38      0.51        37\n",
      "           2       0.75      0.86      0.80         7\n",
      "           3       0.00      0.00      0.00         0\n",
      "           4       0.00      0.00      0.00         2\n",
      "           5       0.00      0.00      0.00         1\n",
      "\n",
      "   micro avg       0.84      0.84      0.84       200\n",
      "   macro avg       0.40      0.37      0.37       200\n",
      "weighted avg       0.82      0.84      0.81       200\n",
      "\n",
      "-----------------------------\n",
      "Banyak Data Latih:  1800\n",
      "Banyak Data Uji:  200\n",
      "\n",
      "Data Latih: \n",
      " [   0    1    2 ... 1997 1998 1999]\n",
      "\n",
      "Data Uji: \n",
      " [800 801 802 803 804 805 806 807 808 809 810 811 812 813 814 815 816 817\n",
      " 818 819 820 821 822 823 824 825 826 827 828 829 830 831 832 833 834 835\n",
      " 836 837 838 839 840 841 842 843 844 845 846 847 848 849 850 851 852 853\n",
      " 854 855 856 857 858 859 860 861 862 863 864 865 866 867 868 869 870 871\n",
      " 872 873 874 875 876 877 878 879 880 881 882 883 884 885 886 887 888 889\n",
      " 890 891 892 893 894 895 896 897 898 899 900 901 902 903 904 905 906 907\n",
      " 908 909 910 911 912 913 914 915 916 917 918 919 920 921 922 923 924 925\n",
      " 926 927 928 929 930 931 932 933 934 935 936 937 938 939 940 941 942 943\n",
      " 944 945 946 947 948 949 950 951 952 953 954 955 956 957 958 959 960 961\n",
      " 962 963 964 965 966 967 968 969 970 971 972 973 974 975 976 977 978 979\n",
      " 980 981 982 983 984 985 986 987 988 989 990 991 992 993 994 995 996 997\n",
      " 998 999]\n"
     ]
    },
    {
     "name": "stderr",
     "output_type": "stream",
     "text": [
      "C:\\Users\\user\\AppData\\Roaming\\Python\\Python310\\site-packages\\sklearn\\metrics\\_classification.py:1327: UndefinedMetricWarning: Precision and F-score are ill-defined and being set to 0.0 in labels with no predicted samples. Use `zero_division` parameter to control this behavior.\n",
      "  _warn_prf(average, modifier, msg_start, len(result))\n",
      "C:\\Users\\user\\AppData\\Roaming\\Python\\Python310\\site-packages\\sklearn\\metrics\\_classification.py:1327: UndefinedMetricWarning: Recall and F-score are ill-defined and being set to 0.0 in labels with no true samples. Use `zero_division` parameter to control this behavior.\n",
      "  _warn_prf(average, modifier, msg_start, len(result))\n",
      "C:\\Users\\user\\AppData\\Roaming\\Python\\Python310\\site-packages\\sklearn\\metrics\\_classification.py:1327: UndefinedMetricWarning: Precision and F-score are ill-defined and being set to 0.0 in labels with no predicted samples. Use `zero_division` parameter to control this behavior.\n",
      "  _warn_prf(average, modifier, msg_start, len(result))\n",
      "C:\\Users\\user\\AppData\\Roaming\\Python\\Python310\\site-packages\\sklearn\\metrics\\_classification.py:1327: UndefinedMetricWarning: Recall and F-score are ill-defined and being set to 0.0 in labels with no true samples. Use `zero_division` parameter to control this behavior.\n",
      "  _warn_prf(average, modifier, msg_start, len(result))\n",
      "C:\\Users\\user\\AppData\\Roaming\\Python\\Python310\\site-packages\\sklearn\\metrics\\_classification.py:1327: UndefinedMetricWarning: Precision and F-score are ill-defined and being set to 0.0 in labels with no predicted samples. Use `zero_division` parameter to control this behavior.\n",
      "  _warn_prf(average, modifier, msg_start, len(result))\n",
      "C:\\Users\\user\\AppData\\Roaming\\Python\\Python310\\site-packages\\sklearn\\metrics\\_classification.py:1327: UndefinedMetricWarning: Recall and F-score are ill-defined and being set to 0.0 in labels with no true samples. Use `zero_division` parameter to control this behavior.\n",
      "  _warn_prf(average, modifier, msg_start, len(result))\n"
     ]
    },
    {
     "name": "stdout",
     "output_type": "stream",
     "text": [
      "\n",
      "Hasil Prediksi SVM RBF: \n",
      " [0 0 0 0 1 0 0 0 0 0 0 0 0 0 0 0 0 0 0 0 0 0 0 0 0 0 0 0 0 0 0 0 0 0 0 0 0\n",
      " 0 0 0 0 0 0 0 0 1 0 0 0 0 0 0 0 0 0 0 0 0 0 0 0 0 0 0 1 0 0 0 0 0 0 0 0 0\n",
      " 0 0 0 0 0 0 0 0 0 0 0 0 0 0 0 0 1 0 0 0 0 0 0 0 0 0 0 0 0 0 0 0 0 0 0 0 0\n",
      " 0 0 0 0 0 0 0 0 0 0 0 0 0 0 0 0 0 0 0 0 0 0 0 0 0 0 0 0 0 0 0 0 0 0 0 0 1\n",
      " 0 0 0 0 0 0 0 0 0 0 0 0 0 0 0 0 0 0 0 0 0 0 0 0 0 0 0 0 0 0 0 0 0 0 0 0 0\n",
      " 0 0 0 0 0 0 0 0 0 0 0 0 0 0 0]\n",
      "\n",
      "Confusion Matrix: \n",
      " [[163   0   0]\n",
      " [ 29   7   0]\n",
      " [  1   0   0]]\n",
      "\n",
      "Akurasi SVM kernel RBF:  0.84\n",
      "\n",
      "              precision    recall  f1-score   support\n",
      "\n",
      "           0       0.84      1.00      0.92       163\n",
      "           1       1.00      0.19      0.33        36\n",
      "           2       0.00      0.00      0.00         0\n",
      "           3       0.00      0.00      0.00         0\n",
      "           4       0.00      0.00      0.00         1\n",
      "           5       0.00      0.00      0.00         0\n",
      "\n",
      "   micro avg       0.85      0.85      0.85       200\n",
      "   macro avg       0.31      0.20      0.21       200\n",
      "weighted avg       0.87      0.85      0.80       200\n",
      "\n",
      "-----------------------------\n",
      "Banyak Data Latih:  1800\n",
      "Banyak Data Uji:  200\n",
      "\n",
      "Data Latih: \n",
      " [   0    1    2 ... 1997 1998 1999]\n",
      "\n",
      "Data Uji: \n",
      " [1000 1001 1002 1003 1004 1005 1006 1007 1008 1009 1010 1011 1012 1013\n",
      " 1014 1015 1016 1017 1018 1019 1020 1021 1022 1023 1024 1025 1026 1027\n",
      " 1028 1029 1030 1031 1032 1033 1034 1035 1036 1037 1038 1039 1040 1041\n",
      " 1042 1043 1044 1045 1046 1047 1048 1049 1050 1051 1052 1053 1054 1055\n",
      " 1056 1057 1058 1059 1060 1061 1062 1063 1064 1065 1066 1067 1068 1069\n",
      " 1070 1071 1072 1073 1074 1075 1076 1077 1078 1079 1080 1081 1082 1083\n",
      " 1084 1085 1086 1087 1088 1089 1090 1091 1092 1093 1094 1095 1096 1097\n",
      " 1098 1099 1100 1101 1102 1103 1104 1105 1106 1107 1108 1109 1110 1111\n",
      " 1112 1113 1114 1115 1116 1117 1118 1119 1120 1121 1122 1123 1124 1125\n",
      " 1126 1127 1128 1129 1130 1131 1132 1133 1134 1135 1136 1137 1138 1139\n",
      " 1140 1141 1142 1143 1144 1145 1146 1147 1148 1149 1150 1151 1152 1153\n",
      " 1154 1155 1156 1157 1158 1159 1160 1161 1162 1163 1164 1165 1166 1167\n",
      " 1168 1169 1170 1171 1172 1173 1174 1175 1176 1177 1178 1179 1180 1181\n",
      " 1182 1183 1184 1185 1186 1187 1188 1189 1190 1191 1192 1193 1194 1195\n",
      " 1196 1197 1198 1199]\n"
     ]
    },
    {
     "name": "stderr",
     "output_type": "stream",
     "text": [
      "C:\\Users\\user\\AppData\\Roaming\\Python\\Python310\\site-packages\\sklearn\\metrics\\_classification.py:1327: UndefinedMetricWarning: Precision and F-score are ill-defined and being set to 0.0 in labels with no predicted samples. Use `zero_division` parameter to control this behavior.\n",
      "  _warn_prf(average, modifier, msg_start, len(result))\n",
      "C:\\Users\\user\\AppData\\Roaming\\Python\\Python310\\site-packages\\sklearn\\metrics\\_classification.py:1327: UndefinedMetricWarning: Recall and F-score are ill-defined and being set to 0.0 in labels with no true samples. Use `zero_division` parameter to control this behavior.\n",
      "  _warn_prf(average, modifier, msg_start, len(result))\n",
      "C:\\Users\\user\\AppData\\Roaming\\Python\\Python310\\site-packages\\sklearn\\metrics\\_classification.py:1327: UndefinedMetricWarning: Precision and F-score are ill-defined and being set to 0.0 in labels with no predicted samples. Use `zero_division` parameter to control this behavior.\n",
      "  _warn_prf(average, modifier, msg_start, len(result))\n",
      "C:\\Users\\user\\AppData\\Roaming\\Python\\Python310\\site-packages\\sklearn\\metrics\\_classification.py:1327: UndefinedMetricWarning: Recall and F-score are ill-defined and being set to 0.0 in labels with no true samples. Use `zero_division` parameter to control this behavior.\n",
      "  _warn_prf(average, modifier, msg_start, len(result))\n",
      "C:\\Users\\user\\AppData\\Roaming\\Python\\Python310\\site-packages\\sklearn\\metrics\\_classification.py:1327: UndefinedMetricWarning: Precision and F-score are ill-defined and being set to 0.0 in labels with no predicted samples. Use `zero_division` parameter to control this behavior.\n",
      "  _warn_prf(average, modifier, msg_start, len(result))\n",
      "C:\\Users\\user\\AppData\\Roaming\\Python\\Python310\\site-packages\\sklearn\\metrics\\_classification.py:1327: UndefinedMetricWarning: Recall and F-score are ill-defined and being set to 0.0 in labels with no true samples. Use `zero_division` parameter to control this behavior.\n",
      "  _warn_prf(average, modifier, msg_start, len(result))\n"
     ]
    },
    {
     "name": "stdout",
     "output_type": "stream",
     "text": [
      "\n",
      "Hasil Prediksi SVM RBF: \n",
      " [0 0 0 0 0 0 0 0 0 0 0 0 0 0 0 1 0 0 0 0 0 0 0 0 0 0 0 0 1 0 0 0 0 0 0 0 0\n",
      " 0 0 0 0 0 0 0 0 0 0 0 0 0 0 2 0 0 0 0 0 0 0 0 0 0 0 0 0 0 0 0 0 0 0 0 1 2\n",
      " 0 0 0 0 0 0 0 0 0 0 0 0 0 0 0 1 0 0 0 0 0 0 2 1 0 0 0 2 0 0 0 0 0 0 0 0 0\n",
      " 0 2 0 0 0 0 0 0 0 0 0 1 0 0 0 0 0 0 0 0 0 0 0 0 0 0 0 0 0 0 0 0 0 2 0 0 0\n",
      " 0 0 0 0 1 0 0 1 0 0 0 0 0 0 0 0 0 0 0 0 0 0 0 0 0 0 0 0 0 0 0 0 0 0 0 0 0\n",
      " 0 0 0 0 0 0 0 0 0 0 0 0 0 0 0]\n",
      "\n",
      "Confusion Matrix: \n",
      " [[155   5   1   0   1]\n",
      " [ 19  12   0   0   0]\n",
      " [  0   0   5   0   0]\n",
      " [  1   0   0   1   0]\n",
      " [  0   0   0   0   0]]\n",
      "\n",
      "Akurasi SVM kernel RBF:  0.85\n",
      "\n",
      "              precision    recall  f1-score   support\n",
      "\n",
      "           0       0.89      0.96      0.92       162\n",
      "           1       0.71      0.39      0.50        31\n",
      "           2       0.83      1.00      0.91         5\n",
      "           3       0.00      0.00      0.00         0\n",
      "           4       1.00      0.50      0.67         2\n",
      "           5       0.00      0.00      0.00         0\n",
      "\n",
      "   micro avg       0.86      0.86      0.86       200\n",
      "   macro avg       0.57      0.47      0.50       200\n",
      "weighted avg       0.86      0.86      0.85       200\n",
      "\n",
      "-----------------------------\n",
      "Banyak Data Latih:  1800\n",
      "Banyak Data Uji:  200\n",
      "\n",
      "Data Latih: \n",
      " [   0    1    2 ... 1997 1998 1999]\n",
      "\n",
      "Data Uji: \n",
      " [1200 1201 1202 1203 1204 1205 1206 1207 1208 1209 1210 1211 1212 1213\n",
      " 1214 1215 1216 1217 1218 1219 1220 1221 1222 1223 1224 1225 1226 1227\n",
      " 1228 1229 1230 1231 1232 1233 1234 1235 1236 1237 1238 1239 1240 1241\n",
      " 1242 1243 1244 1245 1246 1247 1248 1249 1250 1251 1252 1253 1254 1255\n",
      " 1256 1257 1258 1259 1260 1261 1262 1263 1264 1265 1266 1267 1268 1269\n",
      " 1270 1271 1272 1273 1274 1275 1276 1277 1278 1279 1280 1281 1282 1283\n",
      " 1284 1285 1286 1287 1288 1289 1290 1291 1292 1293 1294 1295 1296 1297\n",
      " 1298 1299 1300 1301 1302 1303 1304 1305 1306 1307 1308 1309 1310 1311\n",
      " 1312 1313 1314 1315 1316 1317 1318 1319 1320 1321 1322 1323 1324 1325\n",
      " 1326 1327 1328 1329 1330 1331 1332 1333 1334 1335 1336 1337 1338 1339\n",
      " 1340 1341 1342 1343 1344 1345 1346 1347 1348 1349 1350 1351 1352 1353\n",
      " 1354 1355 1356 1357 1358 1359 1360 1361 1362 1363 1364 1365 1366 1367\n",
      " 1368 1369 1370 1371 1372 1373 1374 1375 1376 1377 1378 1379 1380 1381\n",
      " 1382 1383 1384 1385 1386 1387 1388 1389 1390 1391 1392 1393 1394 1395\n",
      " 1396 1397 1398 1399]\n"
     ]
    },
    {
     "name": "stderr",
     "output_type": "stream",
     "text": [
      "C:\\Users\\user\\AppData\\Roaming\\Python\\Python310\\site-packages\\sklearn\\metrics\\_classification.py:1327: UndefinedMetricWarning: Precision and F-score are ill-defined and being set to 0.0 in labels with no predicted samples. Use `zero_division` parameter to control this behavior.\n",
      "  _warn_prf(average, modifier, msg_start, len(result))\n",
      "C:\\Users\\user\\AppData\\Roaming\\Python\\Python310\\site-packages\\sklearn\\metrics\\_classification.py:1327: UndefinedMetricWarning: Recall and F-score are ill-defined and being set to 0.0 in labels with no true samples. Use `zero_division` parameter to control this behavior.\n",
      "  _warn_prf(average, modifier, msg_start, len(result))\n",
      "C:\\Users\\user\\AppData\\Roaming\\Python\\Python310\\site-packages\\sklearn\\metrics\\_classification.py:1327: UndefinedMetricWarning: Precision and F-score are ill-defined and being set to 0.0 in labels with no predicted samples. Use `zero_division` parameter to control this behavior.\n",
      "  _warn_prf(average, modifier, msg_start, len(result))\n",
      "C:\\Users\\user\\AppData\\Roaming\\Python\\Python310\\site-packages\\sklearn\\metrics\\_classification.py:1327: UndefinedMetricWarning: Recall and F-score are ill-defined and being set to 0.0 in labels with no true samples. Use `zero_division` parameter to control this behavior.\n",
      "  _warn_prf(average, modifier, msg_start, len(result))\n",
      "C:\\Users\\user\\AppData\\Roaming\\Python\\Python310\\site-packages\\sklearn\\metrics\\_classification.py:1327: UndefinedMetricWarning: Precision and F-score are ill-defined and being set to 0.0 in labels with no predicted samples. Use `zero_division` parameter to control this behavior.\n",
      "  _warn_prf(average, modifier, msg_start, len(result))\n",
      "C:\\Users\\user\\AppData\\Roaming\\Python\\Python310\\site-packages\\sklearn\\metrics\\_classification.py:1327: UndefinedMetricWarning: Recall and F-score are ill-defined and being set to 0.0 in labels with no true samples. Use `zero_division` parameter to control this behavior.\n",
      "  _warn_prf(average, modifier, msg_start, len(result))\n"
     ]
    },
    {
     "name": "stdout",
     "output_type": "stream",
     "text": [
      "\n",
      "Hasil Prediksi SVM RBF: \n",
      " [0 0 0 0 0 0 0 0 0 0 0 0 0 0 0 0 0 0 0 0 0 1 0 0 0 0 0 0 0 0 0 0 0 0 0 0 0\n",
      " 1 0 0 0 0 2 0 0 0 0 0 0 0 0 0 0 0 0 0 0 0 0 0 0 0 0 0 0 0 0 0 0 0 1 0 0 0\n",
      " 0 0 0 1 1 1 1 0 0 0 0 0 0 0 0 0 0 0 0 0 0 0 0 0 0 0 0 1 0 0 0 0 0 0 0 0 0\n",
      " 0 0 0 0 1 0 1 0 0 0 0 0 0 0 0 0 1 1 0 0 0 0 0 0 0 0 0 0 0 0 0 0 0 0 0 0 0\n",
      " 0 0 0 0 0 0 0 0 0 0 0 0 0 0 0 0 0 0 0 0 1 0 0 0 0 0 0 0 0 0 0 0 0 0 0 0 0\n",
      " 0 0 0 0 0 0 0 0 0 0 0 0 0 0 0]\n",
      "\n",
      "Confusion Matrix: \n",
      " [[153   2   1   0   0]\n",
      " [ 24  16   0   0   0]\n",
      " [  0   0   1   0   0]\n",
      " [  2   0   0   0   0]\n",
      " [  1   0   0   0   0]]\n",
      "\n",
      "Akurasi SVM kernel RBF:  0.83\n",
      "\n",
      "              precision    recall  f1-score   support\n",
      "\n",
      "           0       0.85      0.98      0.91       156\n",
      "           1       0.89      0.40      0.55        40\n",
      "           2       0.50      1.00      0.67         1\n",
      "           3       0.00      0.00      0.00         2\n",
      "           4       0.00      0.00      0.00         1\n",
      "           5       0.00      0.00      0.00         0\n",
      "\n",
      "   micro avg       0.85      0.85      0.85       200\n",
      "   macro avg       0.37      0.40      0.35       200\n",
      "weighted avg       0.84      0.85      0.82       200\n",
      "\n",
      "-----------------------------\n",
      "Banyak Data Latih:  1800\n",
      "Banyak Data Uji:  200\n",
      "\n",
      "Data Latih: \n",
      " [   0    1    2 ... 1997 1998 1999]\n",
      "\n",
      "Data Uji: \n",
      " [1400 1401 1402 1403 1404 1405 1406 1407 1408 1409 1410 1411 1412 1413\n",
      " 1414 1415 1416 1417 1418 1419 1420 1421 1422 1423 1424 1425 1426 1427\n",
      " 1428 1429 1430 1431 1432 1433 1434 1435 1436 1437 1438 1439 1440 1441\n",
      " 1442 1443 1444 1445 1446 1447 1448 1449 1450 1451 1452 1453 1454 1455\n",
      " 1456 1457 1458 1459 1460 1461 1462 1463 1464 1465 1466 1467 1468 1469\n",
      " 1470 1471 1472 1473 1474 1475 1476 1477 1478 1479 1480 1481 1482 1483\n",
      " 1484 1485 1486 1487 1488 1489 1490 1491 1492 1493 1494 1495 1496 1497\n",
      " 1498 1499 1500 1501 1502 1503 1504 1505 1506 1507 1508 1509 1510 1511\n",
      " 1512 1513 1514 1515 1516 1517 1518 1519 1520 1521 1522 1523 1524 1525\n",
      " 1526 1527 1528 1529 1530 1531 1532 1533 1534 1535 1536 1537 1538 1539\n",
      " 1540 1541 1542 1543 1544 1545 1546 1547 1548 1549 1550 1551 1552 1553\n",
      " 1554 1555 1556 1557 1558 1559 1560 1561 1562 1563 1564 1565 1566 1567\n",
      " 1568 1569 1570 1571 1572 1573 1574 1575 1576 1577 1578 1579 1580 1581\n",
      " 1582 1583 1584 1585 1586 1587 1588 1589 1590 1591 1592 1593 1594 1595\n",
      " 1596 1597 1598 1599]\n"
     ]
    },
    {
     "name": "stderr",
     "output_type": "stream",
     "text": [
      "C:\\Users\\user\\AppData\\Roaming\\Python\\Python310\\site-packages\\sklearn\\metrics\\_classification.py:1327: UndefinedMetricWarning: Precision and F-score are ill-defined and being set to 0.0 in labels with no predicted samples. Use `zero_division` parameter to control this behavior.\n",
      "  _warn_prf(average, modifier, msg_start, len(result))\n",
      "C:\\Users\\user\\AppData\\Roaming\\Python\\Python310\\site-packages\\sklearn\\metrics\\_classification.py:1327: UndefinedMetricWarning: Recall and F-score are ill-defined and being set to 0.0 in labels with no true samples. Use `zero_division` parameter to control this behavior.\n",
      "  _warn_prf(average, modifier, msg_start, len(result))\n",
      "C:\\Users\\user\\AppData\\Roaming\\Python\\Python310\\site-packages\\sklearn\\metrics\\_classification.py:1327: UndefinedMetricWarning: Precision and F-score are ill-defined and being set to 0.0 in labels with no predicted samples. Use `zero_division` parameter to control this behavior.\n",
      "  _warn_prf(average, modifier, msg_start, len(result))\n",
      "C:\\Users\\user\\AppData\\Roaming\\Python\\Python310\\site-packages\\sklearn\\metrics\\_classification.py:1327: UndefinedMetricWarning: Recall and F-score are ill-defined and being set to 0.0 in labels with no true samples. Use `zero_division` parameter to control this behavior.\n",
      "  _warn_prf(average, modifier, msg_start, len(result))\n",
      "C:\\Users\\user\\AppData\\Roaming\\Python\\Python310\\site-packages\\sklearn\\metrics\\_classification.py:1327: UndefinedMetricWarning: Precision and F-score are ill-defined and being set to 0.0 in labels with no predicted samples. Use `zero_division` parameter to control this behavior.\n",
      "  _warn_prf(average, modifier, msg_start, len(result))\n",
      "C:\\Users\\user\\AppData\\Roaming\\Python\\Python310\\site-packages\\sklearn\\metrics\\_classification.py:1327: UndefinedMetricWarning: Recall and F-score are ill-defined and being set to 0.0 in labels with no true samples. Use `zero_division` parameter to control this behavior.\n",
      "  _warn_prf(average, modifier, msg_start, len(result))\n"
     ]
    },
    {
     "name": "stdout",
     "output_type": "stream",
     "text": [
      "\n",
      "Hasil Prediksi SVM RBF: \n",
      " [0 0 0 0 0 0 0 0 2 0 0 0 0 0 0 0 0 0 0 0 0 0 0 0 0 0 0 0 0 0 0 0 0 0 0 0 0\n",
      " 0 0 0 0 0 0 0 0 0 0 0 0 0 0 0 0 0 0 0 0 0 0 0 0 0 0 0 0 0 0 0 0 0 0 0 0 0\n",
      " 0 0 0 0 0 0 0 0 0 1 0 0 0 0 0 0 0 0 0 0 0 0 0 0 0 0 0 0 0 0 0 0 0 0 0 0 2\n",
      " 0 0 0 0 0 1 0 0 0 0 0 2 0 0 0 0 0 2 0 0 0 2 2 0 2 2 0 0 0 0 0 0 0 0 0 0 0\n",
      " 0 0 0 0 0 1 0 0 0 0 0 0 0 0 0 0 0 0 0 0 0 0 0 0 0 0 0 0 0 0 0 0 0 0 1 0 0\n",
      " 0 0 0 0 0 0 0 0 0 0 0 0 0 0 1]\n",
      "\n",
      "Confusion Matrix: \n",
      " [[156   9   1   0   0]\n",
      " [ 15   6   0   0   0]\n",
      " [  1   0   8   0   0]\n",
      " [  1   1   0   0   0]\n",
      " [  2   0   0   0   0]]\n",
      "\n",
      "Akurasi SVM kernel RBF:  0.855\n",
      "\n",
      "              precision    recall  f1-score   support\n",
      "\n",
      "           0       0.89      0.94      0.91       166\n",
      "           1       0.38      0.29      0.32        21\n",
      "           2       0.89      0.89      0.89         9\n",
      "           3       0.00      0.00      0.00         2\n",
      "           4       0.00      0.00      0.00         2\n",
      "           5       0.00      0.00      0.00         0\n",
      "\n",
      "   micro avg       0.85      0.85      0.85       200\n",
      "   macro avg       0.36      0.35      0.35       200\n",
      "weighted avg       0.82      0.85      0.83       200\n",
      "\n",
      "-----------------------------\n",
      "Banyak Data Latih:  1800\n",
      "Banyak Data Uji:  200\n",
      "\n",
      "Data Latih: \n",
      " [   0    1    2 ... 1997 1998 1999]\n",
      "\n",
      "Data Uji: \n",
      " [1600 1601 1602 1603 1604 1605 1606 1607 1608 1609 1610 1611 1612 1613\n",
      " 1614 1615 1616 1617 1618 1619 1620 1621 1622 1623 1624 1625 1626 1627\n",
      " 1628 1629 1630 1631 1632 1633 1634 1635 1636 1637 1638 1639 1640 1641\n",
      " 1642 1643 1644 1645 1646 1647 1648 1649 1650 1651 1652 1653 1654 1655\n",
      " 1656 1657 1658 1659 1660 1661 1662 1663 1664 1665 1666 1667 1668 1669\n",
      " 1670 1671 1672 1673 1674 1675 1676 1677 1678 1679 1680 1681 1682 1683\n",
      " 1684 1685 1686 1687 1688 1689 1690 1691 1692 1693 1694 1695 1696 1697\n",
      " 1698 1699 1700 1701 1702 1703 1704 1705 1706 1707 1708 1709 1710 1711\n",
      " 1712 1713 1714 1715 1716 1717 1718 1719 1720 1721 1722 1723 1724 1725\n",
      " 1726 1727 1728 1729 1730 1731 1732 1733 1734 1735 1736 1737 1738 1739\n",
      " 1740 1741 1742 1743 1744 1745 1746 1747 1748 1749 1750 1751 1752 1753\n",
      " 1754 1755 1756 1757 1758 1759 1760 1761 1762 1763 1764 1765 1766 1767\n",
      " 1768 1769 1770 1771 1772 1773 1774 1775 1776 1777 1778 1779 1780 1781\n",
      " 1782 1783 1784 1785 1786 1787 1788 1789 1790 1791 1792 1793 1794 1795\n",
      " 1796 1797 1798 1799]\n"
     ]
    },
    {
     "name": "stderr",
     "output_type": "stream",
     "text": [
      "C:\\Users\\user\\AppData\\Roaming\\Python\\Python310\\site-packages\\sklearn\\metrics\\_classification.py:1327: UndefinedMetricWarning: Precision and F-score are ill-defined and being set to 0.0 in labels with no predicted samples. Use `zero_division` parameter to control this behavior.\n",
      "  _warn_prf(average, modifier, msg_start, len(result))\n",
      "C:\\Users\\user\\AppData\\Roaming\\Python\\Python310\\site-packages\\sklearn\\metrics\\_classification.py:1327: UndefinedMetricWarning: Recall and F-score are ill-defined and being set to 0.0 in labels with no true samples. Use `zero_division` parameter to control this behavior.\n",
      "  _warn_prf(average, modifier, msg_start, len(result))\n",
      "C:\\Users\\user\\AppData\\Roaming\\Python\\Python310\\site-packages\\sklearn\\metrics\\_classification.py:1327: UndefinedMetricWarning: Precision and F-score are ill-defined and being set to 0.0 in labels with no predicted samples. Use `zero_division` parameter to control this behavior.\n",
      "  _warn_prf(average, modifier, msg_start, len(result))\n",
      "C:\\Users\\user\\AppData\\Roaming\\Python\\Python310\\site-packages\\sklearn\\metrics\\_classification.py:1327: UndefinedMetricWarning: Recall and F-score are ill-defined and being set to 0.0 in labels with no true samples. Use `zero_division` parameter to control this behavior.\n",
      "  _warn_prf(average, modifier, msg_start, len(result))\n",
      "C:\\Users\\user\\AppData\\Roaming\\Python\\Python310\\site-packages\\sklearn\\metrics\\_classification.py:1327: UndefinedMetricWarning: Precision and F-score are ill-defined and being set to 0.0 in labels with no predicted samples. Use `zero_division` parameter to control this behavior.\n",
      "  _warn_prf(average, modifier, msg_start, len(result))\n",
      "C:\\Users\\user\\AppData\\Roaming\\Python\\Python310\\site-packages\\sklearn\\metrics\\_classification.py:1327: UndefinedMetricWarning: Recall and F-score are ill-defined and being set to 0.0 in labels with no true samples. Use `zero_division` parameter to control this behavior.\n",
      "  _warn_prf(average, modifier, msg_start, len(result))\n"
     ]
    },
    {
     "name": "stdout",
     "output_type": "stream",
     "text": [
      "\n",
      "Hasil Prediksi SVM RBF: \n",
      " [0 1 2 0 1 0 0 0 0 0 0 0 0 0 1 0 0 0 0 0 0 0 0 2 0 0 0 0 0 0 0 0 0 0 0 0 0\n",
      " 0 0 0 0 0 0 0 0 1 0 0 0 0 0 0 0 0 0 0 0 0 0 1 0 0 0 0 0 1 0 0 0 0 0 0 0 0\n",
      " 0 0 0 0 0 0 0 0 1 0 1 0 0 0 0 0 1 0 1 0 0 0 0 0 0 0 0 1 0 0 0 0 0 0 0 0 0\n",
      " 0 0 0 0 0 0 0 0 0 0 0 0 0 0 0 0 0 0 0 0 0 0 0 0 0 0 0 0 0 1 0 0 0 0 0 0 0\n",
      " 0 1 0 0 0 1 0 0 0 0 0 0 0 0 1 0 0 0 0 0 1 0 1 0 0 0 0 0 0 0 0 2 0 0 0 0 0\n",
      " 0 0 1 0 0 1 0 0 0 0 0 0 0 0 1]\n",
      "\n",
      "Confusion Matrix: \n",
      " [[143  10   0   0]\n",
      " [ 21  21   0   0]\n",
      " [  0   0   3   0]\n",
      " [  0   1   1   0]]\n",
      "\n",
      "Akurasi SVM kernel RBF:  0.82\n",
      "\n",
      "              precision    recall  f1-score   support\n",
      "\n",
      "           0       0.87      0.93      0.90       153\n",
      "           1       0.66      0.50      0.57        42\n",
      "           2       0.75      1.00      0.86         3\n",
      "           3       0.00      0.00      0.00         0\n",
      "           4       0.00      0.00      0.00         2\n",
      "           5       0.00      0.00      0.00         0\n",
      "\n",
      "   micro avg       0.83      0.83      0.83       200\n",
      "   macro avg       0.38      0.41      0.39       200\n",
      "weighted avg       0.82      0.83      0.82       200\n",
      "\n",
      "-----------------------------\n",
      "Banyak Data Latih:  1800\n",
      "Banyak Data Uji:  200\n",
      "\n",
      "Data Latih: \n",
      " [   0    1    2 ... 1797 1798 1799]\n",
      "\n",
      "Data Uji: \n",
      " [1800 1801 1802 1803 1804 1805 1806 1807 1808 1809 1810 1811 1812 1813\n",
      " 1814 1815 1816 1817 1818 1819 1820 1821 1822 1823 1824 1825 1826 1827\n",
      " 1828 1829 1830 1831 1832 1833 1834 1835 1836 1837 1838 1839 1840 1841\n",
      " 1842 1843 1844 1845 1846 1847 1848 1849 1850 1851 1852 1853 1854 1855\n",
      " 1856 1857 1858 1859 1860 1861 1862 1863 1864 1865 1866 1867 1868 1869\n",
      " 1870 1871 1872 1873 1874 1875 1876 1877 1878 1879 1880 1881 1882 1883\n",
      " 1884 1885 1886 1887 1888 1889 1890 1891 1892 1893 1894 1895 1896 1897\n",
      " 1898 1899 1900 1901 1902 1903 1904 1905 1906 1907 1908 1909 1910 1911\n",
      " 1912 1913 1914 1915 1916 1917 1918 1919 1920 1921 1922 1923 1924 1925\n",
      " 1926 1927 1928 1929 1930 1931 1932 1933 1934 1935 1936 1937 1938 1939\n",
      " 1940 1941 1942 1943 1944 1945 1946 1947 1948 1949 1950 1951 1952 1953\n",
      " 1954 1955 1956 1957 1958 1959 1960 1961 1962 1963 1964 1965 1966 1967\n",
      " 1968 1969 1970 1971 1972 1973 1974 1975 1976 1977 1978 1979 1980 1981\n",
      " 1982 1983 1984 1985 1986 1987 1988 1989 1990 1991 1992 1993 1994 1995\n",
      " 1996 1997 1998 1999]\n"
     ]
    },
    {
     "name": "stderr",
     "output_type": "stream",
     "text": [
      "C:\\Users\\user\\AppData\\Roaming\\Python\\Python310\\site-packages\\sklearn\\metrics\\_classification.py:1327: UndefinedMetricWarning: Precision and F-score are ill-defined and being set to 0.0 in labels with no predicted samples. Use `zero_division` parameter to control this behavior.\n",
      "  _warn_prf(average, modifier, msg_start, len(result))\n",
      "C:\\Users\\user\\AppData\\Roaming\\Python\\Python310\\site-packages\\sklearn\\metrics\\_classification.py:1327: UndefinedMetricWarning: Recall and F-score are ill-defined and being set to 0.0 in labels with no true samples. Use `zero_division` parameter to control this behavior.\n",
      "  _warn_prf(average, modifier, msg_start, len(result))\n",
      "C:\\Users\\user\\AppData\\Roaming\\Python\\Python310\\site-packages\\sklearn\\metrics\\_classification.py:1327: UndefinedMetricWarning: Precision and F-score are ill-defined and being set to 0.0 in labels with no predicted samples. Use `zero_division` parameter to control this behavior.\n",
      "  _warn_prf(average, modifier, msg_start, len(result))\n",
      "C:\\Users\\user\\AppData\\Roaming\\Python\\Python310\\site-packages\\sklearn\\metrics\\_classification.py:1327: UndefinedMetricWarning: Recall and F-score are ill-defined and being set to 0.0 in labels with no true samples. Use `zero_division` parameter to control this behavior.\n",
      "  _warn_prf(average, modifier, msg_start, len(result))\n",
      "C:\\Users\\user\\AppData\\Roaming\\Python\\Python310\\site-packages\\sklearn\\metrics\\_classification.py:1327: UndefinedMetricWarning: Precision and F-score are ill-defined and being set to 0.0 in labels with no predicted samples. Use `zero_division` parameter to control this behavior.\n",
      "  _warn_prf(average, modifier, msg_start, len(result))\n",
      "C:\\Users\\user\\AppData\\Roaming\\Python\\Python310\\site-packages\\sklearn\\metrics\\_classification.py:1327: UndefinedMetricWarning: Recall and F-score are ill-defined and being set to 0.0 in labels with no true samples. Use `zero_division` parameter to control this behavior.\n",
      "  _warn_prf(average, modifier, msg_start, len(result))\n"
     ]
    },
    {
     "name": "stdout",
     "output_type": "stream",
     "text": [
      "\n",
      "Hasil Prediksi SVM RBF: \n",
      " [0 0 0 2 0 0 0 0 0 0 0 0 0 0 0 0 0 0 1 1 0 0 0 1 1 0 0 0 0 0 0 0 0 1 0 0 0\n",
      " 0 0 0 0 0 0 1 0 0 0 0 0 0 0 0 0 0 1 1 0 0 0 0 0 0 0 0 1 0 0 2 0 0 2 0 0 0\n",
      " 0 0 0 0 0 1 0 0 0 0 2 0 0 0 1 0 0 0 0 0 0 0 0 0 0 0 0 0 0 0 1 1 0 0 0 0 1\n",
      " 0 1 0 0 0 0 0 1 0 1 0 0 0 0 2 0 0 0 0 0 0 0 0 0 0 0 1 0 0 0 0 0 0 0 0 0 0\n",
      " 0 1 0 0 0 0 0 0 0 0 1 0 0 0 0 0 0 0 0 0 0 0 0 0 0 0 0 1 0 0 0 0 0 0 0 1 1\n",
      " 0 0 0 0 0 0 0 0 0 0 0 1 0 0 2]\n",
      "\n",
      "Confusion Matrix: \n",
      " [[139  10   1   0   0]\n",
      " [ 18  22   0   0   0]\n",
      " [  1   0   5   0   0]\n",
      " [  3   0   0   0   0]\n",
      " [  0   0   0   0   1]]\n",
      "\n",
      "Akurasi SVM kernel RBF:  0.81\n",
      "\n",
      "              precision    recall  f1-score   support\n",
      "\n",
      "           0       0.86      0.93      0.89       150\n",
      "           1       0.69      0.55      0.61        40\n",
      "           2       0.83      0.83      0.83         6\n",
      "           3       0.00      0.00      0.00         3\n",
      "           4       1.00      1.00      1.00         1\n",
      "           5       0.00      0.00      0.00         0\n",
      "\n",
      "   micro avg       0.83      0.83      0.83       200\n",
      "   macro avg       0.56      0.55      0.56       200\n",
      "weighted avg       0.82      0.83      0.82       200\n",
      "\n",
      "Rata-rata akurasi keseluruhan SVM kernel RBF adalah : 0.8295\n"
     ]
    },
    {
     "name": "stderr",
     "output_type": "stream",
     "text": [
      "C:\\Users\\user\\AppData\\Roaming\\Python\\Python310\\site-packages\\sklearn\\metrics\\_classification.py:1327: UndefinedMetricWarning: Precision and F-score are ill-defined and being set to 0.0 in labels with no predicted samples. Use `zero_division` parameter to control this behavior.\n",
      "  _warn_prf(average, modifier, msg_start, len(result))\n",
      "C:\\Users\\user\\AppData\\Roaming\\Python\\Python310\\site-packages\\sklearn\\metrics\\_classification.py:1327: UndefinedMetricWarning: Recall and F-score are ill-defined and being set to 0.0 in labels with no true samples. Use `zero_division` parameter to control this behavior.\n",
      "  _warn_prf(average, modifier, msg_start, len(result))\n",
      "C:\\Users\\user\\AppData\\Roaming\\Python\\Python310\\site-packages\\sklearn\\metrics\\_classification.py:1327: UndefinedMetricWarning: Precision and F-score are ill-defined and being set to 0.0 in labels with no predicted samples. Use `zero_division` parameter to control this behavior.\n",
      "  _warn_prf(average, modifier, msg_start, len(result))\n",
      "C:\\Users\\user\\AppData\\Roaming\\Python\\Python310\\site-packages\\sklearn\\metrics\\_classification.py:1327: UndefinedMetricWarning: Recall and F-score are ill-defined and being set to 0.0 in labels with no true samples. Use `zero_division` parameter to control this behavior.\n",
      "  _warn_prf(average, modifier, msg_start, len(result))\n",
      "C:\\Users\\user\\AppData\\Roaming\\Python\\Python310\\site-packages\\sklearn\\metrics\\_classification.py:1327: UndefinedMetricWarning: Precision and F-score are ill-defined and being set to 0.0 in labels with no predicted samples. Use `zero_division` parameter to control this behavior.\n",
      "  _warn_prf(average, modifier, msg_start, len(result))\n",
      "C:\\Users\\user\\AppData\\Roaming\\Python\\Python310\\site-packages\\sklearn\\metrics\\_classification.py:1327: UndefinedMetricWarning: Recall and F-score are ill-defined and being set to 0.0 in labels with no true samples. Use `zero_division` parameter to control this behavior.\n",
      "  _warn_prf(average, modifier, msg_start, len(result))\n"
     ]
    }
   ],
   "source": [
    "kFoldCrossValidation = KFold(n_splits=10)#fungsi K-Fold Cross Validation melakukan insialisasi 10 kali iterasi\n",
    "for latih, uji in kFoldCrossValidation.split(TFIDF, label):#proses looping yg masing2 pernah jadi data latih maupun uji\n",
    "    \n",
    "    print(\"-----------------------------\")\n",
    "    print(\"Banyak Data Latih: \", len(latih)) #berapa jmlah data latih\n",
    "    print(\"Banyak Data Uji: \", len(uji)) #berapa jumlah data uji\n",
    "    print(\"\\nData Latih: \\n\", latih) #menampilkan data latih\n",
    "    print(\"\\nData Uji: \\n\", uji)#menampilkan data uji\n",
    "    \n",
    "    dataLatih1, dataUji1 = TFIDF[latih], TFIDF[uji]#proses inisialisasi dari masing2 data latih/uji dijadikan nilai tfidf lalu di copy ke variabel dataLatih/Uji1\n",
    "    label = np.array(label)\n",
    "    dataLatih2, dataUji2 = label[latih], label[uji]#proses inisialisasi dari masing2 data latih/uji dibentuk ke label untuk proses prediksi lalu di copy ke variabel dataLatih/Uji2\n",
    "\n",
    "    SVMLinear = svm.LinearSVC()\n",
    "    modelLinear = SVMLinear.fit(dataLatih1, dataLatih2)#data latih melakukan proses pelatihan dengan algoritma SVM\n",
    "    prediksi = modelLinear.predict(dataUji1)#proses prediksi dari data latih yang sudah tersimpan sebagai model\n",
    "    \n",
    "    SVM = svm.SVC(kernel='linear')\n",
    "    modelSVM = SVM.fit(dataLatih1, dataLatih2)  # data latih melakukan proses pelatihan dengan algoritma SVM\n",
    "    prediksi1 = modelSVM.predict(dataUji1)  # proses prediksi dari data latih yang sudah tersimpan sebagai model\n",
    "    \n",
    "    SVMPoly = svm.SVC(kernel='poly', degree=3)\n",
    "    modelPoly = SVMPoly.fit(dataLatih1, dataLatih2)  # data latih melakukan proses pelatihan dengan algoritma SVM\n",
    "    prediksi2 = modelPoly.predict(dataUji1)  # proses prediksi dari data latih yang sudah tersimpan sebagai model\n",
    "    \n",
    "    SVMRBF = svm.SVC(kernel='rbf', gamma=0.7)\n",
    "    modelRBF = SVMRBF.fit(dataLatih1, dataLatih2)  # data latih melakukan proses pelatihan dengan algoritma SVM\n",
    "    prediksi3 = modelRBF.predict(dataUji1)  # proses prediksi dari data latih yang sudah tersimpan sebagai model\n",
    "\n",
    "    print(\"\\nHasil Prediksi SVM RBF: \\n\", prediksi3)\n",
    "    #membuat confussion matrix\n",
    "    \n",
    "    print(\"\\nConfusion Matrix: \\n\", metrics.confusion_matrix(dataUji2, prediksi1))\n",
    "\n",
    "    akurasi.append(accuracy_score(dataUji2, prediksi))\n",
    "    akurasi1.append(accuracy_score(dataUji2, prediksi1))\n",
    "    akurasi2.append(accuracy_score(dataUji2, prediksi2))\n",
    "    akurasi3.append(accuracy_score(dataUji2, prediksi3))\n",
    "\n",
    "    print(\"\\nAkurasi SVM kernel RBF: \", accuracy_score(dataUji2, prediksi3))\n",
    "    print()\\\n",
    "\n",
    "    label_target = ['class 0(content_berita)','class 1 (functionality)','class 2 (content_iklan)','class 3 (interactivity)','class 4 (navigation)','class 5 (video / audio quality)'] #berikut merupakan label target\n",
    "    \n",
    "    print(metrics.classification_report(dataUji2, prediksi1,labels=[0,1,2,3,4,5])) #memberikan kelas label karena model hanya memprediksi 4 kelas\n",
    "    #yang menyebabkan kesalahan matriks kebingungan\n",
    "\n",
    "avg_akurasiRBF() #hitung rata rata kernel rbf"
   ]
  },
  {
   "cell_type": "code",
   "execution_count": 17,
   "id": "2a8e2011",
   "metadata": {},
   "outputs": [],
   "source": [
    "# save the model to disk\n",
    "import pickle\n",
    "filename = 'SVMLinier_model.sav'\n",
    "pickle.dump(SVMLinear, open(filename, 'wb'))"
   ]
  },
  {
   "cell_type": "code",
   "execution_count": 18,
   "id": "7f13ed29",
   "metadata": {},
   "outputs": [],
   "source": [
    "# save the model to disk\n",
    "import pickle\n",
    "filename = 'SVM_model.sav'\n",
    "pickle.dump(SVM, open(filename, 'wb'))"
   ]
  },
  {
   "cell_type": "code",
   "execution_count": 19,
   "id": "888498fa",
   "metadata": {},
   "outputs": [],
   "source": [
    "# save the model to disk\n",
    "import pickle\n",
    "filename = 'SVMPolynomial_model.sav'\n",
    "pickle.dump(SVMPoly, open(filename, 'wb'))"
   ]
  },
  {
   "cell_type": "code",
   "execution_count": 20,
   "id": "31cbab90",
   "metadata": {},
   "outputs": [],
   "source": [
    "# save the model to disk\n",
    "import pickle\n",
    "filename = 'SVMRBF_model.sav'\n",
    "pickle.dump(SVMRBF, open(filename, 'wb'))"
   ]
  },
  {
   "cell_type": "code",
   "execution_count": 21,
   "id": "45db4046",
   "metadata": {},
   "outputs": [],
   "source": [
    "# save the model to disk\n",
    "import pickle\n",
    "filename = 'TFIDF.pickle'\n",
    "pickle.dump(TFIDF, open(filename, 'wb'))"
   ]
  },
  {
   "cell_type": "markdown",
   "id": "54a9c510",
   "metadata": {},
   "source": [
    "# LOAD MODEL"
   ]
  },
  {
   "cell_type": "code",
   "execution_count": 22,
   "id": "fee31b3f",
   "metadata": {},
   "outputs": [],
   "source": [
    "import string\n",
    "import Sastrawi\n",
    "from Sastrawi.Stemmer.StemmerFactory import StemmerFactory\n",
    "from nltk.tokenize import word_tokenize\n",
    "from nltk.corpus import stopwords\n",
    "from Sastrawi.StopWordRemover.StopWordRemoverFactory import StopWordRemoverFactory"
   ]
  },
  {
   "cell_type": "code",
   "execution_count": 23,
   "id": "22a5ca95",
   "metadata": {},
   "outputs": [
    {
     "name": "stdout",
     "output_type": "stream",
     "text": [
      "berita online cnn ini sangat bagus, namun iklannya sangat mengganggu tolong diperbaiki\n"
     ]
    }
   ],
   "source": [
    "kalimat = \"Berita online CNN ini sangat bagus, namun iklannya sangat mengganggu tolong diperbaiki\" \n",
    "lower_case = kalimat.lower()\n",
    "print (lower_case)"
   ]
  },
  {
   "cell_type": "code",
   "execution_count": 24,
   "id": "3b8a942e",
   "metadata": {},
   "outputs": [
    {
     "name": "stdout",
     "output_type": "stream",
     "text": [
      "berita online cnn ini sangat bagus namun iklannya sangat mengganggu tolong diperbaiki\n"
     ]
    }
   ],
   "source": [
    "punctuation = lower_case.translate(str.maketrans('','',string.punctuation)).strip()\n",
    "print(punctuation)"
   ]
  },
  {
   "cell_type": "code",
   "execution_count": 25,
   "id": "3414b3bc",
   "metadata": {},
   "outputs": [
    {
     "name": "stdout",
     "output_type": "stream",
     "text": [
      "['berita', 'online', 'cnn', 'ini', 'sangat', 'bagus', 'namun', 'iklannya', 'sangat', 'mengganggu', 'tolong', 'diperbaiki']\n"
     ]
    }
   ],
   "source": [
    "tokenize = word_tokenize(punctuation)\n",
    "print(tokenize)"
   ]
  },
  {
   "cell_type": "code",
   "execution_count": 26,
   "id": "0cddf03d",
   "metadata": {},
   "outputs": [
    {
     "name": "stdout",
     "output_type": "stream",
     "text": [
      "['berita', 'online', 'cnn', 'sangat', 'bagus', 'iklannya', 'sangat', 'mengganggu', 'diperbaiki']\n"
     ]
    }
   ],
   "source": [
    "factory = StopWordRemoverFactory()\n",
    "stopword = factory.create_stop_word_remover()\n",
    "hasil_stopword = []\n",
    "for i in tokenize:\n",
    "    word = stopword.remove(i)\n",
    "    if word !='':\n",
    "        hasil_stopword.append(word)\n",
    "print(hasil_stopword)"
   ]
  },
  {
   "cell_type": "code",
   "execution_count": 27,
   "id": "440c823d",
   "metadata": {},
   "outputs": [
    {
     "name": "stdout",
     "output_type": "stream",
     "text": [
      "['berita', 'online', 'cnn', 'sangat', 'bagus', 'iklan', 'sangat', 'ganggu', 'baik']\n"
     ]
    }
   ],
   "source": [
    "factory = StemmerFactory()\n",
    "stemmer = factory.create_stemmer()  \n",
    "hasil_stemming = [] \n",
    "for i in hasil_stopword:\n",
    "    word = stemmer.stem(i)\n",
    "    if word !='':\n",
    "        hasil_stemming.append(word) \n",
    "print(hasil_stemming)"
   ]
  },
  {
   "cell_type": "code",
   "execution_count": 28,
   "id": "d58a873f",
   "metadata": {},
   "outputs": [
    {
     "name": "stdout",
     "output_type": "stream",
     "text": [
      "['baik ganggu sangat iklan bagus sangat cnn online berita']\n"
     ]
    }
   ],
   "source": [
    "teks_ulasan=[' '.join(reversed(hasil_stemming))]\n",
    "print(teks_ulasan)"
   ]
  },
  {
   "cell_type": "code",
   "execution_count": 29,
   "id": "79da4dd9",
   "metadata": {},
   "outputs": [],
   "source": [
    "#Load TFIDF model\n",
    "import pickle\n",
    "from sklearn.feature_extraction.text import TfidfTransformer, CountVectorizer\n",
    "transformer = TfidfTransformer()\n",
    "loaded_vec = CountVectorizer(decode_error=\"replace\",vocabulary=pickle.load(open(\"TFIDF.pkl\", \"rb\")))\n",
    "tfidf = transformer.fit_transform(loaded_vec.fit_transform(teks_ulasan))"
   ]
  },
  {
   "cell_type": "code",
   "execution_count": 30,
   "id": "2c19bc16",
   "metadata": {},
   "outputs": [
    {
     "name": "stdout",
     "output_type": "stream",
     "text": [
      "  (0, 1937)\t0.6030226891555273\n",
      "  (0, 1607)\t0.30151134457776363\n",
      "  (0, 820)\t0.30151134457776363\n",
      "  (0, 678)\t0.30151134457776363\n",
      "  (0, 442)\t0.30151134457776363\n",
      "  (0, 268)\t0.30151134457776363\n",
      "  (0, 185)\t0.30151134457776363\n",
      "  (0, 167)\t0.30151134457776363\n"
     ]
    }
   ],
   "source": [
    "print (tfidf)"
   ]
  },
  {
   "cell_type": "code",
   "execution_count": 31,
   "id": "2bbcb9f7",
   "metadata": {},
   "outputs": [],
   "source": [
    "loaded_SVM_model = pickle.load(open('SVM_model.sav', 'rb'))"
   ]
  },
  {
   "cell_type": "code",
   "execution_count": 32,
   "id": "5b5ab5fd",
   "metadata": {},
   "outputs": [
    {
     "name": "stdout",
     "output_type": "stream",
     "text": [
      "SVC(kernel='linear')\n"
     ]
    }
   ],
   "source": [
    "print (loaded_SVM_model)"
   ]
  },
  {
   "cell_type": "code",
   "execution_count": 33,
   "id": "3497ecd0",
   "metadata": {},
   "outputs": [
    {
     "data": {
      "text/plain": [
       "array([2])"
      ]
     },
     "execution_count": 33,
     "metadata": {},
     "output_type": "execute_result"
    }
   ],
   "source": [
    "loaded_SVM_model.predict(tfidf)"
   ]
  },
  {
   "cell_type": "code",
   "execution_count": 34,
   "id": "1e7b6c36",
   "metadata": {},
   "outputs": [],
   "source": [
    "# load SVM  LINIER model\n",
    "loaded_SVMlinier_model = pickle.load(open('SVMLinier_model.sav', 'rb'))"
   ]
  },
  {
   "cell_type": "code",
   "execution_count": 35,
   "id": "828476b4",
   "metadata": {},
   "outputs": [
    {
     "name": "stdout",
     "output_type": "stream",
     "text": [
      "LinearSVC()\n"
     ]
    }
   ],
   "source": [
    "print (loaded_SVMlinier_model)"
   ]
  },
  {
   "cell_type": "code",
   "execution_count": 36,
   "id": "56e4ac80",
   "metadata": {},
   "outputs": [
    {
     "data": {
      "text/plain": [
       "array([2])"
      ]
     },
     "execution_count": 36,
     "metadata": {},
     "output_type": "execute_result"
    }
   ],
   "source": [
    "loaded_SVMlinier_model.predict(tfidf)"
   ]
  },
  {
   "cell_type": "code",
   "execution_count": 37,
   "id": "41bb7bb2",
   "metadata": {},
   "outputs": [],
   "source": [
    "# load SVM  POLYNOMIAL model\n",
    "loaded_SVMpolynomial_model = pickle.load(open('SVMPolynomial_model.sav', 'rb'))"
   ]
  },
  {
   "cell_type": "code",
   "execution_count": 38,
   "id": "a934a8ab",
   "metadata": {},
   "outputs": [
    {
     "name": "stdout",
     "output_type": "stream",
     "text": [
      "SVC(kernel='poly')\n"
     ]
    }
   ],
   "source": [
    "print (loaded_SVMpolynomial_model)"
   ]
  },
  {
   "cell_type": "code",
   "execution_count": 39,
   "id": "4e8b72bd",
   "metadata": {},
   "outputs": [
    {
     "data": {
      "text/plain": [
       "array([0])"
      ]
     },
     "execution_count": 39,
     "metadata": {},
     "output_type": "execute_result"
    }
   ],
   "source": [
    "loaded_SVMpolynomial_model.predict(tfidf)"
   ]
  },
  {
   "cell_type": "code",
   "execution_count": 40,
   "id": "e6b9bf06",
   "metadata": {},
   "outputs": [],
   "source": [
    "# load SVM RBF model\n",
    "loaded_SVMrbf_model = pickle.load(open('SVMRBF_model.sav', 'rb'))"
   ]
  },
  {
   "cell_type": "code",
   "execution_count": 41,
   "id": "028923b0",
   "metadata": {},
   "outputs": [
    {
     "name": "stdout",
     "output_type": "stream",
     "text": [
      "SVC(gamma=0.7)\n"
     ]
    }
   ],
   "source": [
    "print (loaded_SVMrbf_model)"
   ]
  },
  {
   "cell_type": "code",
   "execution_count": 43,
   "id": "ae80abd9",
   "metadata": {},
   "outputs": [
    {
     "data": {
      "text/plain": [
       "array([2])"
      ]
     },
     "execution_count": 43,
     "metadata": {},
     "output_type": "execute_result"
    }
   ],
   "source": [
    "loaded_SVMrbf_model.predict(tfidf)"
   ]
  },
  {
   "cell_type": "code",
   "execution_count": null,
   "id": "8ed3a3e8",
   "metadata": {},
   "outputs": [],
   "source": []
  },
  {
   "cell_type": "code",
   "execution_count": null,
   "id": "a1395fa1",
   "metadata": {},
   "outputs": [],
   "source": []
  }
 ],
 "metadata": {
  "kernelspec": {
   "display_name": "Python 3 (ipykernel)",
   "language": "python",
   "name": "python3"
  },
  "language_info": {
   "codemirror_mode": {
    "name": "ipython",
    "version": 3
   },
   "file_extension": ".py",
   "mimetype": "text/x-python",
   "name": "python",
   "nbconvert_exporter": "python",
   "pygments_lexer": "ipython3",
   "version": "3.10.0"
  }
 },
 "nbformat": 4,
 "nbformat_minor": 5
}
